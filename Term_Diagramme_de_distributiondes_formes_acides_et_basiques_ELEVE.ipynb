{
  "nbformat": 4,
  "nbformat_minor": 0,
  "metadata": {
    "colab": {
      "name": "Term_Diagramme de distributiondes formes acides et basiques_ELEVE.ipynb",
      "provenance": []
    },
    "kernelspec": {
      "name": "python3",
      "display_name": "Python 3"
    }
  },
  "cells": [
    {
      "cell_type": "markdown",
      "metadata": {
        "id": "OP8IbRiu7nf-",
        "colab_type": "text"
      },
      "source": [
        "OBJECTIF  : Afficher un Diagramme de distribution en Forme Acide et forme basique d'un acide à partir de son  pKa"
      ]
    },
    {
      "cell_type": "markdown",
      "metadata": {
        "id": "EWLhECL98I6D",
        "colab_type": "text"
      },
      "source": [
        "Modifier les lignes pour\n",
        "*   Commenter la ligne 5\n",
        "*   Afficher le % en forme basique A-de l'acide\n",
        "*   Afficher les labels pour chaque courbe\n",
        "*   Afficher la légende de l'axe des ordonnées"
      ]
    },
    {
      "cell_type": "code",
      "metadata": {
        "id": "5CvECpAJ8AZd",
        "colab_type": "code",
        "outputId": "4632ef19-4276-4a49-a68c-bd934548d520",
        "colab": {
          "base_uri": "https://localhost:8080/",
          "height": 317
        }
      },
      "source": [
        "import matplotlib.pyplot as plt\n",
        "import numpy as np\n",
        "\n",
        "# ...............................................\n",
        "pH=np.linspace(0,14,100)\n",
        "# Entrée de la valeur du pKa de l'acide\n",
        "pKa= float(input(\"Quel est le pKa de l'acide ? \"))\n",
        "#Détermination du % de AH \n",
        "def alpha(pH):\n",
        "    alpha=100*(10**(-pH))/((10**(-pH)+10**(-pKa)))\n",
        "    return alpha\n",
        "#Détermination du % de A- \n",
        "def beta(pH):\n",
        "     beta=...............................................\n",
        "     return beta\n",
        "plt.plot(pH,alpha(pH),\"*\",c=\"r\", label=\"% en AH\")\n",
        "plt.plot(pH,beta(pH),\"o\",c=\"b\", label=\"% en A-\")\n",
        "plt.xlabel(\"pH\")\n",
        "plt.ylabel(\"...................................................\")\n",
        "plt.grid\n",
        "plt.legend( loc=\"upper right\")\n",
        "plt.show"
      ],
      "execution_count": 0,
      "outputs": [
        {
          "output_type": "stream",
          "text": [
            "Quel est le pKa de l'acide ? 4.72\n"
          ],
          "name": "stdout"
        },
        {
          "output_type": "execute_result",
          "data": {
            "text/plain": [
              "<function matplotlib.pyplot.show>"
            ]
          },
          "metadata": {
            "tags": []
          },
          "execution_count": 1
        },
        {
          "output_type": "display_data",
          "data": {
            "image/png": "[encoded data removed]",
            "text/plain": [
              "<Figure size 432x288 with 1 Axes>"
            ]
          },
          "metadata": {
            "tags": [],
            "needs_background": "light"
          }
        }
      ]
    }
  ]
}