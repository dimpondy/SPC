{
  "nbformat": 4,
  "nbformat_minor": 0,
  "metadata": {
    "colab": {
      "name": "2nd-Tracé de caractéristiques_ELEVE.ipynb",
      "provenance": []
    },
    "kernelspec": {
      "name": "python3",
      "display_name": "Python 3"
    }
  },
  "cells": [
    {
      "cell_type": "markdown",
      "metadata": {
        "id": "oEtNB3iiW5yE",
        "colab_type": "text"
      },
      "source": [
        "# Tracé de caractéristiques de dipoles\n",
        "L'objectif de cette séance est de tracer les caractéristiques de 2 dipôle,  de les comparer et de rechercher le dipôle  dit 'ohmique'"
      ]
    },
    {
      "cell_type": "markdown",
      "metadata": {
        "id": "1Z1VUj9VVtr3",
        "colab_type": "text"
      },
      "source": [
        "# Votre  objectif consiste à \n",
        "*      compléter les lignes du programmes pour **afficher la courbe du 2eme dipole**\n",
        "*      compléter **les légendes** des axes\n",
        "*      compléter **le calcul pour déterminer la valeur, R,**  de la Résistance du dipole ohmique\n",
        "*      **remplacer** les valeurs des tensions et des intensités par celles obtenues expérimentalement\n",
        "*      à **sauvegarder** les graphiques et les faire **valider** par votre enseignant"
      ]
    },
    {
      "cell_type": "code",
      "metadata": {
        "id": "ndJtr6ujmQMa",
        "colab_type": "code",
        "colab": {}
      },
      "source": [
        "import matplotlib.pyplot as plt\n",
        "#Valeurs pour chaque dipole\n",
        "U1=[0,200,400,600,800]\n",
        "U2=[0,200,400,1000,3000]\n",
        "I=[0,0.100,0.200,0.500,1.5]\n",
        "\n",
        "#Affichage des titres et légendes\n",
        "plt.grid()\n",
        "plt.title (\"Caractéristique Tension-Intensité de dipôles \")\n",
        "plt.xlabel('.............')\n",
        "plt.ylabel('..............')\n",
        "\n",
        "#Affichage des points sur le graphique\n",
        "plt.plot(I,U1,'o', c='b',linestyle = 'dashed',label='Points issus de mesure du dipole 1')\n",
        "....................................................................................\n",
        "\n",
        "#Calcul et affichage de la valeur de la Résistance du dipole ohmique\n",
        "#le module sum(..) permet de calculer la somme et len(..) permet d'avoir le nombre de valeurs\n",
        "R=....................\n",
        "print(\"la valeur de la résistance du dipole ohmique est de \", R , \"ohm\")\n",
        "plt.legend()\n",
        "plt.savefig(\"fig1.png\")\n",
        "plt.show"
      ],
      "execution_count": 0,
      "outputs": []
    },
    {
      "cell_type": "markdown",
      "metadata": {
        "id": "e_FjN1ntbG_h",
        "colab_type": "text"
      },
      "source": [
        "#Pour aller plus loin ..\n",
        "**Utilisation du module stats**"
      ]
    },
    {
      "cell_type": "markdown",
      "metadata": {
        "id": "B2MBYxHzbX1n",
        "colab_type": "text"
      },
      "source": [
        "OBJECTIFS :\n",
        "*   Tracer la cartéristique d'un rhéostat \n",
        "*   Déterminer son coefficient directeur\n",
        "*   Modéliser la caractéristique par une fonction affine"
      ]
    },
    {
      "cell_type": "markdown",
      "metadata": {
        "id": "dc83UCfjePrk",
        "colab_type": "text"
      },
      "source": [
        "**Pour cela ...**\n",
        "Compléter les lignes !"
      ]
    },
    {
      "cell_type": "code",
      "metadata": {
        "id": "24AVc_shbwTV",
        "colab_type": "code",
        "outputId": "a0d882e0-0c04-4a44-a149-eea218169f86",
        "colab": {
          "base_uri": "https://localhost:8080/",
          "height": 321
        }
      },
      "source": [
        "# Import de module des bibliothèques\n",
        "import numpy as np\n",
        "import matplotlib.pyplot as plt\n",
        "import scipy.stats as sc\n",
        "\n",
        "# Valeurs expérimentales\n",
        "x= np.array([...,...,....................])\n",
        "y= np.array([...,...,....................])\n",
        "\n",
        "# Représentation du nuage de points\n",
        "plt.plot (x,y,'o',c='g')\n",
        "\n",
        "#Modélisation du graphique\n",
        "droite=sc.linregress(x,y)\n",
        "coefficient=droite.slope\n",
        "print(\"le coefficient directeur  est : \", coefficient)\n",
        "oorigin= droite.intercept\n",
        "print(\"L'ordonnée à l'origine est : \", oorigin)\n",
        "\n",
        "#Tracé de la droite de regression\n",
        "y_modele = .............*x +...............\n",
        "plt.plot(x,............., c='b')\n",
        "plt.show"
      ],
      "execution_count": 0,
      "outputs": [
        {
          "output_type": "stream",
          "text": [
            "le coefficient directeur  est :  1.5000000000000002\n",
            "L'ordonnée à l'origine est :  -1.7763568394002505e-15\n"
          ],
          "name": "stdout"
        },
        {
          "output_type": "execute_result",
          "data": {
            "text/plain": [
              "<function matplotlib.pyplot.show>"
            ]
          },
          "metadata": {
            "tags": []
          },
          "execution_count": 15
        },
        {
          "output_type": "display_data",
          "data": {
            "image/png": "[encoded data removed]",
            "text/plain": [
              "<Figure size 432x288 with 1 Axes>"
            ]
          },
          "metadata": {
            "tags": [],
            "needs_background": "light"
          }
        }
      ]
    }
  ]
}