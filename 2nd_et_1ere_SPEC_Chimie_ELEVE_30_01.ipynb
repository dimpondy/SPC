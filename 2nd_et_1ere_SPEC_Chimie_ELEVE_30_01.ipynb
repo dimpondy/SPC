{
  "nbformat": 4,
  "nbformat_minor": 0,
  "metadata": {
    "colab": {
      "name": "2nd et 1ere SPEC_Chimie ELEVE 30-01.ipynb",
      "provenance": [],
      "collapsed_sections": [],
      "toc_visible": true
    },
    "kernelspec": {
      "name": "python3",
      "display_name": "Python 3"
    }
  },
  "cells": [
    {
      "cell_type": "markdown",
      "metadata": {
        "id": "b1RTaS2eg2Wa",
        "colab_type": "text"
      },
      "source": [
        "# **Les configurations électroniques de quelques élements chimiques**"
      ]
    },
    {
      "cell_type": "markdown",
      "metadata": {
        "id": "rwGT9NTFZ5qs",
        "colab_type": "text"
      },
      "source": [
        "#Introduction à quelques  nouvelles fonctions "
      ]
    },
    {
      "cell_type": "markdown",
      "metadata": {
        "id": "UaezUwaZaCOF",
        "colab_type": "text"
      },
      "source": [
        "## **Nous allons voir dans cette séquence une fonction utile** :  \n",
        "\n",
        "*   si  ..    \n",
        "*        alors........\n",
        "*   sinon\n",
        "\n"
      ]
    },
    {
      "cell_type": "markdown",
      "metadata": {
        "id": "Ml9EycvKag3Z",
        "colab_type": "text"
      },
      "source": [
        "###Ex 1 : Ecrire un programme qui indique ta réussite au Bac si ta moyenne est supérieure à 10 "
      ]
    },
    {
      "cell_type": "code",
      "metadata": {
        "id": "wTE_v7hPagAk",
        "colab_type": "code",
        "colab": {}
      },
      "source": [
        "import numpy as np\n",
        "moy=float(input(\"Quelle est ta moyenne générale\"))\n",
        "# On remarquera l'indentation ( décalage) aprés le if et le else\n",
        "if ............ :\n",
        "  print (\"Bravo\")\n",
        "else: \n",
        "  print(\"Snif\")"
      ],
      "execution_count": 0,
      "outputs": []
    },
    {
      "cell_type": "markdown",
      "metadata": {
        "colab_type": "text",
        "id": "gOtL725Cbqnj"
      },
      "source": [
        "###Ex 2 : Ecrire un programme qui indique ta réussite au Bac si ta moyenne est supérieure à 10 , ton échec si inférieur à 8 et le passage à l'oral si ta moyenne est compris entre 8 et 10 !"
      ]
    },
    {
      "cell_type": "code",
      "metadata": {
        "id": "wtosmLxhb3DD",
        "colab_type": "code",
        "colab": {}
      },
      "source": [
        "\n",
        "\n",
        "if\n",
        "\n",
        "elif\n",
        "  \n",
        "else"
      ],
      "execution_count": 0,
      "outputs": []
    },
    {
      "cell_type": "markdown",
      "metadata": {
        "colab_type": "text",
        "id": "2MEh0_vGcRZC"
      },
      "source": [
        "###Ex 3 : Ecrire un programme qui indique la nature d'une solution ( Acide si pH inf à 7 , neutre si pH = 7 et enfin Basique si pH sup à 7"
      ]
    },
    {
      "cell_type": "code",
      "metadata": {
        "id": "ir7DhCgqcdkA",
        "colab_type": "code",
        "colab": {}
      },
      "source": [
        "\n",
        "\n",
        "\n",
        "\n",
        "\n",
        "\n",
        "\n",
        "\n",
        "\n"
      ],
      "execution_count": 0,
      "outputs": []
    },
    {
      "cell_type": "markdown",
      "metadata": {
        "id": "P4tVMPlgdGd-",
        "colab_type": "text"
      },
      "source": [
        "# Partie CHIMIE"
      ]
    },
    {
      "cell_type": "markdown",
      "metadata": {
        "id": "5SCNmv-Ag5eV",
        "colab_type": "text"
      },
      "source": [
        "## *Ecrire un programme permettant d'afficher la configuration électronique ( Ex : 1s2 2s1 ) d'un élément à partir du numéro atomique entré par l'utilisateur*"
      ]
    },
    {
      "cell_type": "markdown",
      "metadata": {
        "id": "up48sA-AIm6d",
        "colab_type": "text"
      },
      "source": [
        "#1er cas simple : Z < 4"
      ]
    },
    {
      "cell_type": "markdown",
      "metadata": {
        "id": "GLqAfPgaNZ_a",
        "colab_type": "text"
      },
      "source": [
        "**EX1 : Complétez les lignes 4 et 7 du programme**"
      ]
    },
    {
      "cell_type": "code",
      "metadata": {
        "id": "KmzrnA8lhF5A",
        "colab_type": "code",
        "colab": {}
      },
      "source": [
        "import numpy as np\n",
        "z=int(input(\"Quel est le numéro atomique de l'élément chimique ?\"))\n",
        "if ............ :\n",
        "  print(\"la configuration électronique de cet élément est 1s\",..........)\n",
        "  print(\"Il appartient à la première période\")  \n",
        "else :\n",
        "  print(\"la configuration électronique de cet élément est 1s2 2s\",...............)"
      ],
      "execution_count": 0,
      "outputs": []
    },
    {
      "cell_type": "markdown",
      "metadata": {
        "id": "7HqRHPV_IvTg",
        "colab_type": "text"
      },
      "source": [
        "##2eme cas moins simple : Z <10"
      ]
    },
    {
      "cell_type": "markdown",
      "metadata": {
        "colab_type": "text",
        "id": "nlti5O6KNnz_"
      },
      "source": [
        "**EX2 : Complétez les lignes 4, 7 et 9 du programme** et Testez toutes les valeurs !"
      ]
    },
    {
      "cell_type": "code",
      "metadata": {
        "id": "cH0ogZo1IueX",
        "colab_type": "code",
        "colab": {}
      },
      "source": [
        "import numpy as np\n",
        "z=int(input(\"Quel est le numéro atomique de l'élément chimique ?\"))\n",
        "if z <=2 :\n",
        "  print(\"la configuration électronique de cet élément est 1s\",.......)\n",
        "  print(\"Il appartient à la première période\")  \n",
        "elif 2 < z <= 4 :\n",
        "  print(.............................................................)\n",
        "else :\n",
        "  print(\"la configuration électronique de cet élément est 1s2 2s2 2p\",.................)"
      ],
      "execution_count": 0,
      "outputs": []
    },
    {
      "cell_type": "markdown",
      "metadata": {
        "id": "nITuUZYIOTa6",
        "colab_type": "text"
      },
      "source": [
        "\n",
        "\n"
      ]
    },
    {
      "cell_type": "markdown",
      "metadata": {
        "id": "1lB8_GY9Ok27",
        "colab_type": "text"
      },
      "source": [
        "# **Tableau d'avancement et recherche de réactif limitant**"
      ]
    },
    {
      "cell_type": "markdown",
      "metadata": {
        "id": "_JpWuA3gPYMh",
        "colab_type": "text"
      },
      "source": [
        "### Compétence numétrique BO  : \n",
        " \n",
        "*   *Déterminer la composition de l'état final d'un système siège d'une transformation chimique totale*\n",
        "\n",
        "\n",
        "\n",
        "\n"
      ]
    },
    {
      "cell_type": "markdown",
      "metadata": {
        "id": "6RflaiBuSQwH",
        "colab_type": "text"
      },
      "source": [
        "## Ex 1 : Le programme devra juste déterminer quel réactif est en excés et quel est celui en défaut"
      ]
    },
    {
      "cell_type": "markdown",
      "metadata": {
        "colab_type": "text",
        "id": "TlJCL7ozS3TJ"
      },
      "source": [
        "Petite réflexion :  \n",
        "\n",
        "*   Quelles données devront être rentrées par l'utilisateur ?\n",
        "*   Quelles données seront calculées ?\n",
        "\n"
      ]
    },
    {
      "cell_type": "markdown",
      "metadata": {
        "id": "yV04the7X7Dt",
        "colab_type": "text"
      },
      "source": [
        "## Complète les lignes  et teste -ton programme !"
      ]
    },
    {
      "cell_type": "code",
      "metadata": {
        "id": "804fnpyWSRKO",
        "colab_type": "code",
        "colab": {}
      },
      "source": [
        "import numpy as np\n",
        "# Ce programme demandera les coefficent stoéchiométriques ainsi \n",
        "#les quantités de matières introduites \n",
        "print( \"L'équation étudiée sera de la forme aA + bB -> cC + dD\")\n",
        "\n",
        "# Demande des coefficient stoechiométriques\n",
        "a=float(input(\".................................................?\"))\n",
        "b=float(input(\"................................................. ?\"))\n",
        "c=float(input(\"................................................. ?\"))\n",
        "d=float(input(\".................................................  ?\"))\n",
        "print( \"l'équation de la réaction étudiée est alors de la forme : \"  ,...,\"A +  \",.......,\"B -> \" , ........, \"C + \",.......,\"D\")\n",
        "# Demande des quantités de matière introduites\n",
        "na=float(input(\"................................................. ?\"))\n",
        "nb=float(input(\".................................................  ?\"))\n",
        "if ...............  :\n",
        "  print( \"le réactif A est en excés\")\n",
        "else :\n",
        "  print(\"C'est le réactif B est en excés\")\n"
      ],
      "execution_count": 0,
      "outputs": []
    },
    {
      "cell_type": "markdown",
      "metadata": {
        "id": "ywZHvWe5OtFz",
        "colab_type": "text"
      },
      "source": [
        "##Ex 2  à FINIR : Le programme devra calculer les réactifs en excés et les quantités de matières finales des produits formés au cours d' une tranformation totale à partir des données rentrées par l'utilisateur"
      ]
    },
    {
      "cell_type": "markdown",
      "metadata": {
        "id": "SjrvAIYESh8o",
        "colab_type": "text"
      },
      "source": [
        "Petite réflexion :  \n",
        "\n",
        "*   Quelles données devront être rentrées par l'utilisateur ?\n",
        "*   Quelles données seront calculées ?\n",
        "\n"
      ]
    },
    {
      "cell_type": "markdown",
      "metadata": {
        "id": "A5xTtHxCWDo8",
        "colab_type": "text"
      },
      "source": [
        "Complétez les lignes "
      ]
    },
    {
      "cell_type": "code",
      "metadata": {
        "id": "-0CyMZtLOtXM",
        "colab_type": "code",
        "colab": {}
      },
      "source": [
        "import numpy as np\n",
        "# Ce programme demandera les coefficent stoéchiométriques ainsi \n",
        "#les quantités de matières introduites et affichera les quantités de matières restantes\n",
        "#( s'il y  a lieu ) ainsi que celles des produits formés\n",
        "print( \"L'équation étudiée sera de la forme aA + bB -> cC + dD\")\n",
        "\n",
        "# Demande des ............................\n",
        "a=float(input(\"............................................. ?\"))\n",
        "b=float(input(\"............................................. ?\"))\n",
        "c=float(input(\"............................................. ?\"))\n",
        "d=float(input(\"............................................. ?\"))\n",
        "\n",
        "# Demande des ...................................\n",
        "na=float(input(\"............................................. ?\"))\n",
        "nb=float(input(\"............................................. ?\"))\n",
        "\n",
        "print( \"l'équation de la réaction étudiée est alors de la forme : \"  ,a,\"A +  \",b,\"B -> \" , c, \"C + \",d,\"D\")\n",
        "if na/a>nb/b  :\n",
        "  print( \"le réactif A est en excés\")\n",
        "else :\n",
        "  print(\"C'est le réactif B est en excés\")\n",
        "\n",
        "\n",
        "\n",
        "\n",
        "\n",
        "\n",
        "\n",
        "print(\" le bilan de l'équation de la réaction chimique est le suivant \",......,\"A +  \",.........,\"B -> \" , ......, \"C + \",.....,\"D\"))"
      ],
      "execution_count": 0,
      "outputs": []
    },
    {
      "cell_type": "code",
      "metadata": {
        "id": "bJQiZ0MHQ3aT",
        "colab_type": "code",
        "colab": {}
      },
      "source": [
        ""
      ],
      "execution_count": 0,
      "outputs": []
    }
  ]
}