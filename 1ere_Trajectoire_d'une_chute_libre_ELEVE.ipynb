{
  "nbformat": 4,
  "nbformat_minor": 0,
  "metadata": {
    "colab": {
      "name": "Trajectoire d'une chute libre_ELEVE.ipynb",
      "provenance": []
    },
    "kernelspec": {
      "name": "python3",
      "display_name": "Python 3"
    }
  },
  "cells": [
    {
      "cell_type": "markdown",
      "metadata": {
        "id": "0yLvuZWIaNz5",
        "colab_type": "text"
      },
      "source": [
        "# Trajectoire d'une chute libre\n",
        "**Analysez** les lignes de ce script puis passez à l'objectif 1"
      ]
    },
    {
      "cell_type": "code",
      "metadata": {
        "id": "B7VB2urlaMdQ",
        "colab_type": "code",
        "outputId": "57c75572-12ca-4cdc-93a9-ea3c6ec5b5b1",
        "colab": {
          "base_uri": "https://localhost:8080/",
          "height": 578
        }
      },
      "source": [
        "import matplotlib.pyplot as plt\n",
        "from matplotlib.pyplot import*\n",
        "ho=1000\n",
        "g=9.81\n",
        "plt.clf()\n",
        "for t in range(0,14):\n",
        "    ht = ho-(g*t**2)/2\n",
        "    print(t,ht)\n",
        "# Affichage du graphique ht en fct du temps\n",
        "    plt.plot(t,ht,'D')\n",
        "  \n",
        "plt.title(\"Hauteur de chute en fonction du temps\",color = 'blue', fontsize = 16)\n",
        "plt.xlabel(\"Temps(s)\")\n",
        "plt.ylabel(\"Hauteur de chute\")\n",
        "plt.show"
      ],
      "execution_count": 5,
      "outputs": [
        {
          "output_type": "stream",
          "text": [
            "0 1000.0\n",
            "1 995.095\n",
            "2 980.38\n",
            "3 955.855\n",
            "4 921.52\n",
            "5 877.375\n",
            "6 823.42\n",
            "7 759.655\n",
            "8 686.0799999999999\n",
            "9 602.6949999999999\n",
            "10 509.5\n",
            "11 406.495\n",
            "12 293.67999999999995\n",
            "13 171.05499999999995\n"
          ],
          "name": "stdout"
        },
        {
          "output_type": "execute_result",
          "data": {
            "text/plain": [
              "<function matplotlib.pyplot.show>"
            ]
          },
          "metadata": {
            "tags": []
          },
          "execution_count": 5
        },
        {
          "output_type": "display_data",
          "data": {
            "image/png": "[encoded data removed]",
            "text/plain": [
              "<Figure size 432x288 with 1 Axes>"
            ]
          },
          "metadata": {
            "tags": [],
            "needs_background": "light"
          }
        }
      ]
    },
    {
      "cell_type": "markdown",
      "metadata": {
        "id": "3I5goUk3LsAy",
        "colab_type": "text"
      },
      "source": [
        "#Votre OBJECTIF 1 : Modifier les lignes pour superposer la chute de ce même mobile sur la Lune ( en recherchant les données utiles )"
      ]
    },
    {
      "cell_type": "code",
      "metadata": {
        "id": "7s5aA8uRMIwt",
        "colab_type": "code",
        "colab": {
          "base_uri": "https://localhost:8080/",
          "height": 335
        },
        "outputId": "67f64f89-41ea-4cf4-9d5a-00b78bae528f"
      },
      "source": [
        "import matplotlib.pyplot as plt\n",
        "from matplotlib.pyplot import*\n",
        "ho=1000\n",
        "gt=9.81\n",
        "............................\n",
        "plt.clf()\n",
        "for t in range(0,14):\n",
        "  ht = ho-(gt*t**2)/2\n",
        " ...........................\n",
        "   \n",
        "# Affichage du graphique ht et hl en fct du temps\n",
        "  plt.plot(t,ht,'D')\n",
        "  .............................................\n",
        "plt.title(\"Hauteur de chute en fonction de l'attraction \",color = 'blue', fontsize = 16)\n",
        "plt.xlabel(\"Temps(s)\")\n",
        "plt.ylabel(\"Hauteur de chute\")\n",
        "plt.legend(loc='lower left')\n",
        "plt.show"
      ],
      "execution_count": 27,
      "outputs": [
        {
          "output_type": "stream",
          "text": [
            "No handles with labels found to put in legend.\n"
          ],
          "name": "stderr"
        },
        {
          "output_type": "execute_result",
          "data": {
            "text/plain": [
              "<function matplotlib.pyplot.show>"
            ]
          },
          "metadata": {
            "tags": []
          },
          "execution_count": 27
        },
        {
          "output_type": "display_data",
          "data": {
            "image/png": "[encoded data removed]",
            "text/plain": [
              "<Figure size 432x288 with 1 Axes>"
            ]
          },
          "metadata": {
            "tags": [],
            "needs_background": "light"
          }
        }
      ]
    }
  ]
}