{
  "nbformat": 4,
  "nbformat_minor": 0,
  "metadata": {
    "colab": {
      "name": "2nd_Tableau_d'avancement_ELEVE.ipynb",
      "provenance": []
    },
    "kernelspec": {
      "name": "python3",
      "display_name": "Python 3"
    }
  },
  "cells": [
    {
      "cell_type": "markdown",
      "metadata": {
        "id": "1lB8_GY9Ok27",
        "colab_type": "text"
      },
      "source": [
        "#2nd  **Tableau d'avancement et recherche de réactif limitant**"
      ]
    },
    {
      "cell_type": "markdown",
      "metadata": {
        "id": "_JpWuA3gPYMh",
        "colab_type": "text"
      },
      "source": [
        "### Compétence numétrique BO  : \n",
        " \n",
        "*   *Déterminer la composition de l'état final d'un système siège d'une transformation chimique totale*\n",
        "\n",
        "\n",
        "\n",
        "\n"
      ]
    },
    {
      "cell_type": "markdown",
      "metadata": {
        "id": "6RflaiBuSQwH",
        "colab_type": "text"
      },
      "source": [
        "## Ex 1 : Le programme devra juste déterminer quel réactif est en excés et quel est celui en défaut"
      ]
    },
    {
      "cell_type": "markdown",
      "metadata": {
        "colab_type": "text",
        "id": "TlJCL7ozS3TJ"
      },
      "source": [
        "Petite réflexion :  \n",
        "\n",
        "*   Quelles données devront être rentrées par l'utilisateur ?\n",
        "*   Quelles données seront calculées ?\n",
        "\n"
      ]
    },
    {
      "cell_type": "markdown",
      "metadata": {
        "colab_type": "text",
        "id": "wodkgP5QvC52"
      },
      "source": [
        "On testera \n",
        "*    une 1ère équation simple de type A+B -> C+D \n",
        "*    puis une 2ème plus complexe de type 2A+3B -> 4C+5D"
      ]
    },
    {
      "cell_type": "markdown",
      "metadata": {
        "id": "yV04the7X7Dt",
        "colab_type": "text"
      },
      "source": [
        "## Complète les lignes  et teste ton programme !"
      ]
    },
    {
      "cell_type": "code",
      "metadata": {
        "id": "804fnpyWSRKO",
        "colab_type": "code",
        "colab": {}
      },
      "source": [
        "import numpy as np\n",
        "# Ce programme demandera les coefficent stoéchiométriques ainsi \n",
        "#les quantités de matières introduites \n",
        "print( \"L'équation étudiée sera de la forme aA + bB -> cC + dD\")\n",
        "\n",
        "a=float(input(\"........................................ ?\"))\n",
        "b=float(input(\"........................................ ?\"))\n",
        "c=float(input(\"........................................\"))\n",
        "d=float(input(\"........................................\"))\n",
        "# Demande des quantités intiales des réactifs introduits\n",
        "na=float(input(\"........................................ ?\"))\n",
        "nb=float(input(\"........................................ ?\"))\n",
        "print( \"l'équation de la réaction étudiée est alors de la forme : \" .............................................)\n",
        "# A quelle condition le réactif a est en excés ? \n",
        "if ........................  :\n",
        "  print( \"le réactif A est en excés\")\n",
        "else :\n",
        "  print(\"C'est le réactif B est en excés\")\n"
      ],
      "execution_count": 0,
      "outputs": []
    },
    {
      "cell_type": "markdown",
      "metadata": {
        "id": "ywZHvWe5OtFz",
        "colab_type": "text"
      },
      "source": [
        "##Ex 2  à FINIR : Le programme devra calculer les réactifs en excés et les quantités de matières finales des produits formés au cours d' une tranformation totale à partir des données rentrées par l'utilisateur"
      ]
    },
    {
      "cell_type": "markdown",
      "metadata": {
        "id": "SjrvAIYESh8o",
        "colab_type": "text"
      },
      "source": [
        "Petite réflexion au préalable :  \n",
        "\n",
        "*   Quelles données devront être rentrées par l'utilisateur ?\n",
        "*   Quelles données seront calculées ?\n",
        "\n"
      ]
    },
    {
      "cell_type": "markdown",
      "metadata": {
        "id": "PynGXSwLm8wa",
        "colab_type": "text"
      },
      "source": [
        "On testera \n",
        "*    une 1ère équation simple de type A+B -> C+D \n",
        "*    puis une 2ème plus complexe de type 2A+3B -> 4C+5D"
      ]
    },
    {
      "cell_type": "code",
      "metadata": {
        "id": "-0CyMZtLOtXM",
        "colab_type": "code",
        "colab": {}
      },
      "source": [
        "import numpy as np\n",
        "# Ce programme demandera les coefficent stoéchiométriques ainsi \n",
        "#les quantités de matières introduites et affichera les quantités de matières restantes\n",
        "#( s'il y  a lieu ) ainsi que celles des produits formés\n",
        "print( \"L'équation étudiée sera de la forme aA + bB -> cC + dD\")\n",
        "# Demande des coefficients stoechiométriques \n",
        "a=float(input(\"........................................ ?\"))\n",
        "b=float(input(\"........................................ ?\"))\n",
        "c=float(input(\"........................................\"))\n",
        "d=float(input(\"........................................\"))\n",
        "# Demande des quantités intiales des réactifs introduits\n",
        "na=float(input(\"........................................ ?\"))\n",
        "nb=float(input(\"........................................ ?\"))\n",
        "print( \"l'équation de la réaction étudiée est alors de la forme : \" .............................................)\n",
        "# Détermination de l'avancement maximal en recherchant le x_min\n",
        ".............................\n",
        "print(\"l avancement maximal est\",..............)\n",
        "print(\"la composition du mélange en fin de réaction sera :\") \n",
        "print(\"il restera\",.................,\"de A et \", ..............,\" de B et il s'est produit\",............., \" de C et \",...........,\" de D\" )\n"
      ],
      "execution_count": 0,
      "outputs": []
    }
  ]
}