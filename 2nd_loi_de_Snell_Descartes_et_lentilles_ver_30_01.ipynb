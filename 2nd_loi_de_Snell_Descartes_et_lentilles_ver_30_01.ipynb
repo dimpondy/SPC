{
  "nbformat": 4,
  "nbformat_minor": 0,
  "metadata": {
    "colab": {
      "name": "2nd_loi_de_Snell_Descartes_et_lentilles ver 28-01.ipynb",
      "provenance": [],
      "collapsed_sections": [
        "CHrR00tSpX9X"
      ]
    },
    "kernelspec": {
      "display_name": "Python 3",
      "language": "python",
      "name": "python3"
    },
    "language_info": {
      "codemirror_mode": {
        "name": "ipython",
        "version": 3
      },
      "file_extension": ".py",
      "mimetype": "text/x-python",
      "name": "python",
      "nbconvert_exporter": "python",
      "pygments_lexer": "ipython3",
      "version": "3.7.4"
    }
  },
  "cells": [
    {
      "cell_type": "markdown",
      "metadata": {
        "colab_type": "text",
        "id": "9HzEm04rsQ3y"
      },
      "source": [
        "# **Petite introduction à Collabory de Google basé sur un Jupiter NoteBook**"
      ]
    },
    {
      "cell_type": "markdown",
      "metadata": {
        "colab_type": "text",
        "id": "QMc9iYQGHqGG"
      },
      "source": [
        "Nous allons dans cette 1ère séance appliquer les notions de programmation en Python vues en mathématiques. \n",
        "Il s'agira simplement de **comprendre** les étapes du programme, **modifier** ou **rajouter** des lignes afin de répondre à la problématique posée."
      ]
    },
    {
      "cell_type": "markdown",
      "metadata": {
        "colab_type": "text",
        "id": "Q25jBW_xIpvN"
      },
      "source": [
        "Vous pouvez observer des cellules de **2 types** : **cellule texte** ( titre, énonce, remarque ) et **des cellules actives** ( ligne de programmmes ) que vous pouvez éxécuter via la petite flèche situé à droite de la cellule ou **CTRL + Entrée **.. à vous de tester cette dernière !"
      ]
    },
    {
      "cell_type": "markdown",
      "metadata": {
        "colab_type": "text",
        "id": "y2fr9UAfJZvl"
      },
      "source": [
        "### Ex 1 Exécutez ( CTRL+Entrée ) les lignes de programmes puis Modifier les pour qu'elles affichent le résultat,c"
      ]
    },
    {
      "cell_type": "code",
      "metadata": {
        "colab_type": "code",
        "id": "p-hZDCIUH4sr",
        "outputId": "5a1f3907-5523-4984-8eaa-b16b2805c3cc",
        "colab": {
          "base_uri": "https://localhost:8080/",
          "height": 35
        }
      },
      "source": [
        "a = 2\n",
        "b = 3\n",
        "c = a+b\n",
        "print(\"Bravo\")"
      ],
      "execution_count": 0,
      "outputs": [
        {
          "output_type": "stream",
          "text": [
            "Bravo\n"
          ],
          "name": "stdout"
        }
      ]
    },
    {
      "cell_type": "markdown",
      "metadata": {
        "colab_type": "text",
        "id": "UP5e4e13ExFB"
      },
      "source": [
        "### Ex 2  Modifier les lignes pour qu'elles  demandent à l'utilisateur de rentrer les valeurs entière  a et  b puis affichent en toute lettre *la somme de ,a, et de ,b, est ,c*"
      ]
    },
    {
      "cell_type": "code",
      "metadata": {
        "colab_type": "code",
        "id": "1Y7_OYOH4FNp",
        "colab": {}
      },
      "source": [
        "a = .......................................\n",
        "b = ......................................\n",
        "c = a+b\n",
        "......................................................"
      ],
      "execution_count": 0,
      "outputs": []
    },
    {
      "cell_type": "markdown",
      "metadata": {
        "id": "wmARA_xSExFR",
        "colab_type": "text"
      },
      "source": [
        "#### Ex 3  Appliquons ce programme à la SPC : Vous devez écrire un programme qui demande à l'utilisateur le nombre de nucléons, A  et de protons Z et qui affiche le nombre de Neutrons,N de façon explicite. ( Rappel : N =A-Z)\n",
        "\n",
        "*   On affichera avant les résultats des phrases explicites\n",
        "*   On pensera à ajouter des commentaires dans les lignes de programmation\n"
      ]
    },
    {
      "cell_type": "code",
      "metadata": {
        "id": "KG70jp-9ExFW",
        "colab_type": "code",
        "colab": {}
      },
      "source": [
        "\n",
        "\n",
        "\n"
      ],
      "execution_count": 0,
      "outputs": []
    },
    {
      "cell_type": "markdown",
      "metadata": {
        "colab_type": "text",
        "id": "azxfQ9-a422G"
      },
      "source": [
        "## Passons à des choses plus compliquées..."
      ]
    },
    {
      "cell_type": "markdown",
      "metadata": {
        "colab_type": "text",
        "id": "rof7NLfQH5AP"
      },
      "source": [
        "# **Les lois de la réfraction en Python**\n",
        "\n",
        "---\n",
        "\n"
      ]
    },
    {
      "cell_type": "markdown",
      "metadata": {
        "id": "FIo0l_kLExFo",
        "colab_type": "text"
      },
      "source": [
        "<h2>Appliquons la Loi de Snell-Descartes pour qu'à partir d'un angle d'incidence i1, et des milieux n1 et n2 , le programme renvois l'angle de réfraction i2. Nous allons découper cet exercice en 2 parties. l'un calculant sin(i1) à partir de i1 puis i2 à partir de sin(i2)"
      ]
    },
    {
      "cell_type": "markdown",
      "metadata": {
        "colab_type": "text",
        "id": "Hox2Vm9HbXYK"
      },
      "source": [
        "## **1ère Partie : Programme pour Calculer le sinus d'un angle demandé à l'utilisateur en °**"
      ]
    },
    {
      "cell_type": "markdown",
      "metadata": {
        "id": "O9bTQskSExFs",
        "colab_type": "text"
      },
      "source": [
        "Nous allons appeler la Biliothèque **Numpy** ( trousse à outils de math , la nommer **np** et faire appel aux outils sin, pi, arcsin de la façon suivante *np.sin(), np.pi, np.arcsin()*....etc.  "
      ]
    },
    {
      "cell_type": "markdown",
      "metadata": {
        "id": "JlkW2C3sExFv",
        "colab_type": "text"
      },
      "source": [
        "Remarque : sin() attend un angle en radian.  On admettra que Pi rad = 180 ° ainsi 1° = Pi/180 rad"
      ]
    },
    {
      "cell_type": "markdown",
      "metadata": {
        "colab_type": "text",
        "id": "Mi7Hxzft3mYQ"
      },
      "source": [
        "### Analysez le code et exécutez-le !"
      ]
    },
    {
      "cell_type": "code",
      "metadata": {
        "colab_type": "code",
        "id": "z7aiJasLbcLu",
        "outputId": "f4f91be9-bf0e-4986-cae5-eaab2de8b5a2",
        "colab": {
          "base_uri": "https://localhost:8080/",
          "height": 88
        }
      },
      "source": [
        "# Import la bibliothèque Numpy et son alias np\n",
        "import numpy as np\n",
        "print('Ce programme va afficher le sinus d un angle')\n",
        "# On demande à l'utilsateur d'entrer une valeur ( non entière )en degrès\n",
        "i1=float(input(\"Quel est l'angle d'incidence en degrès ?\\n\"))\n",
        "# Les angles sont convertis en radian pour le calcul\n",
        "sini1=np.sin(np.pi*i1/180)\n",
        "# Affiche le résultat avec 2 Chiffres apres la virgule\n",
        "print(\"Le sinus de l'angle \",round(sini1,2)) "
      ],
      "execution_count": 0,
      "outputs": [
        {
          "output_type": "stream",
          "text": [
            "Ce programme va afficher le sinus d un angle\n",
            "Quel est l'angle d'incidence en degrès ?\n",
            "25.4\n",
            "Le sinus de l'angle  0.43\n"
          ],
          "name": "stdout"
        }
      ]
    },
    {
      "cell_type": "markdown",
      "metadata": {
        "colab_type": "text",
        "id": "Kw_-Q0Q2ud5r"
      },
      "source": [
        "Vérifiez vos valeurs sur [Animation Réfraction](http://scphysiques.free.fr/animations/anims/optique/refraction2.swf)"
      ]
    },
    {
      "cell_type": "markdown",
      "metadata": {
        "colab_type": "text",
        "id": "I2HAEmZ4rjL1"
      },
      "source": [
        "##  **2ème partie : Ecrire un programme pour \"Calculer l'angle à partir d'un de la valeur d'un sinus  entré par l'utilisateur**"
      ]
    },
    {
      "cell_type": "markdown",
      "metadata": {
        "colab_type": "text",
        "id": "wMdorcJ262bp"
      },
      "source": [
        "On aura recours au module de numpy : **np.arcsin(sini)** donnant l'arc en radian !\n",
        "\n"
      ]
    },
    {
      "cell_type": "code",
      "metadata": {
        "colab_type": "code",
        "id": "CddRfjS7m2TJ",
        "colab": {}
      },
      "source": [
        "import numpy as np\n",
        "\n",
        "\n",
        "\n",
        "\n",
        "\n",
        "\n",
        "\n",
        "\n"
      ],
      "execution_count": 0,
      "outputs": []
    },
    {
      "cell_type": "markdown",
      "metadata": {
        "colab_type": "text",
        "id": "l6sx2NNM4Fia"
      },
      "source": [
        "## **Vous êtes maintenant prêt (e)  pour atteindre l'objectif final ? alors à vous de jouer !**"
      ]
    },
    {
      "cell_type": "markdown",
      "metadata": {
        "colab_type": "text",
        "id": "EN3UKBzVWiS-"
      },
      "source": [
        "### Ex A Récrire le programme pour déterminer l'indice de réfraction du milieu 2 en entrant seulement les angles d'incidence et de réfraction. On prendra,**dans un 1er temps,** comme milieu1 l'air !\n"
      ]
    },
    {
      "cell_type": "code",
      "metadata": {
        "colab_type": "code",
        "id": "VG4fd8V4Wb8O",
        "colab": {}
      },
      "source": [
        "import numpy as np\n",
        "\n",
        "\n",
        "\n",
        "\n",
        "\n",
        "\n",
        "\n"
      ],
      "execution_count": 0,
      "outputs": []
    },
    {
      "cell_type": "markdown",
      "metadata": {
        "colab_type": "text",
        "id": "m1-TPOy8Ypcs"
      },
      "source": [
        "### Ex B **Dans un 2eme temps**, récrire le programme pour déterminer l'indice de réfraction du milieu 2, noté n2  en entrant les angles d'incidence, de réfraction et l'indice n1 du milieu  "
      ]
    },
    {
      "cell_type": "code",
      "metadata": {
        "colab_type": "code",
        "id": "_125OIyHZEgO",
        "colab": {}
      },
      "source": [
        "import numpy as np\n",
        "\n",
        "\n",
        "\n",
        "\n",
        "\n",
        "\n",
        "\n",
        "\n"
      ],
      "execution_count": 0,
      "outputs": []
    },
    {
      "cell_type": "markdown",
      "metadata": {
        "colab_type": "text",
        "id": "Ka2980V-Wkxr"
      },
      "source": [
        "### Ex C Compléter les lignes pour calculer l'angle de réfraction i2.\n",
        "Tous les angles entrés sont exprimés en **radian !**"
      ]
    },
    {
      "cell_type": "code",
      "metadata": {
        "colab_type": "code",
        "id": "iGI532JqKleN",
        "colab": {}
      },
      "source": [
        "import numpy as np\n",
        "print('Ce programme va calculer un angle de réfraction\\n connaissant _indice des milieux et l_angle d_incidence')\n",
        "i1=float( input(\"Quel est l'angle d'incidence ?\\n\"))\n",
        "n1=float( input(\"Quel est l'indice de réfraction du milieu 1 ?\\n\"))\n",
        "n2=float( input(\"Quel est l'indice de réfraction du milieu 2 ?\\n\"))\n",
        "sini2=.................................\n",
        "i2=np.arcsin(sini2)\n",
        "# La ligne suivante ...........................\n",
        "i2=180*i2/np.pi\n",
        "print(\"Pour un angle\",i1,\"L'angle de réfraction vaut i2=\",round(i2,2),\"°.\\n Le rayon réfléchi a pour angle ir=\",i1,\"°\") "
      ],
      "execution_count": 0,
      "outputs": []
    },
    {
      "cell_type": "markdown",
      "metadata": {
        "colab_type": "text",
        "id": "L6aEd2uTl6th"
      },
      "source": [
        "# Correction"
      ]
    },
    {
      "cell_type": "code",
      "metadata": {
        "colab_type": "code",
        "id": "paS7kgPZmBb0",
        "colab": {}
      },
      "source": [
        "import numpy as np\n",
        "print('Ce programme va calculer un angle de réfraction\\n connaissant _indice des milieux et l_angle d_incidence')\n",
        "i1=float( input(\"Quel est l'angle d'incidence ?\\n\"))\n",
        "n1=float( input(\"Quel est l'indice de réfraction du milieu 1 ?\\n\"))\n",
        "n2=float( input(\"Quel est l'indice de réfraction du milieu 2 ?\\n\"))\n",
        "sini2=n1*np.sin(np.pi*i1/180)/n2\n",
        "#cas de la réflexion totale\n",
        "if sini2>1 :\n",
        "    print(\"Il n'y a pas de réfraction.\\n Il existe un rayon réfléchi d'angle ir=\",i1,\"°\")\n",
        "else :\n",
        "# Cas général\n",
        "    i2=np.arcsin(sini2)\n",
        "    i2=180*i2/np.pi\n",
        "    print(\"L'angle de réfraction vaut i2=\",round(i2,2),\"°.\\n Le rayon réfléchi a pour angle ir=\",i1,\"°\") "
      ],
      "execution_count": 0,
      "outputs": []
    },
    {
      "cell_type": "markdown",
      "metadata": {
        "colab_type": "text",
        "id": "klacRlmJZoLp"
      },
      "source": [
        "# **Les lentilles en Python**\n"
      ]
    },
    {
      "cell_type": "markdown",
      "metadata": {
        "colab_type": "text",
        "id": "rdQudgwxZuTc"
      },
      "source": [
        "## Vous allez écrire un programme permettant de calculer  le grandissement d'un objet à partir de grandeurs entrées par l'utilisateur"
      ]
    },
    {
      "cell_type": "markdown",
      "metadata": {
        "colab_type": "text",
        "id": "VwsJgqQ3bMc-"
      },
      "source": [
        "Mais avant toute chose, un peu de réflexion ...sur papier !"
      ]
    },
    {
      "cell_type": "markdown",
      "metadata": {
        "colab_type": "text",
        "id": "EstTy81LZ39t"
      },
      "source": [
        "Quelle grandeurs l'utilisateur doit-il entrer ?"
      ]
    },
    {
      "cell_type": "markdown",
      "metadata": {
        "colab_type": "text",
        "id": "bHNjKBEKZ-eE"
      },
      "source": [
        "Quelle est l'expression de la relation permettant de calculer le grandissement, noté G ?"
      ]
    },
    {
      "cell_type": "markdown",
      "metadata": {
        "colab_type": "text",
        "id": "-4BKilNGajMw"
      },
      "source": [
        "### Ex D : A vous de jouer !"
      ]
    },
    {
      "cell_type": "code",
      "metadata": {
        "colab_type": "code",
        "id": "A1Xopzq6ah_T",
        "colab": {}
      },
      "source": [
        "import numpy as np\n",
        "\n",
        "\n",
        "\n",
        "\n",
        "\n",
        "\n"
      ],
      "execution_count": 0,
      "outputs": []
    },
    {
      "cell_type": "markdown",
      "metadata": {
        "id": "jF4R5qnoInbv",
        "colab_type": "text"
      },
      "source": [
        "## Correction 1"
      ]
    },
    {
      "cell_type": "code",
      "metadata": {
        "id": "BA6fIpuMImTy",
        "colab_type": "code",
        "colab": {}
      },
      "source": [
        "import numpy as np\n",
        "TailleImg =int(input ( \" Quelle est la taille de l'image en cm ? \\n\"))\n",
        "TailleObj =int(input ( \" Quelle est la taille de l'objet en cm ? \\n\"))\n",
        "g=float(round(TailleImg/TailleObj,2))\n",
        "print(\"Le grandissement G de cette lentille est\",g)"
      ],
      "execution_count": 0,
      "outputs": []
    },
    {
      "cell_type": "markdown",
      "metadata": {
        "id": "yjpF6Z_bKOxP",
        "colab_type": "text"
      },
      "source": [
        "## Ex E : Ecrire un programme qui détermine la taille del'image A'B' à partir de AB, OA et OA'"
      ]
    },
    {
      "cell_type": "markdown",
      "metadata": {
        "colab_type": "text",
        "id": "CHrR00tSpX9X"
      },
      "source": [
        "# Correction 2"
      ]
    },
    {
      "cell_type": "code",
      "metadata": {
        "colab_type": "code",
        "id": "v69hrJuBpzHv",
        "colab": {}
      },
      "source": [
        "# Définition de la fonction qui calcul la taille de l'image A'B' à partir de AB, OA et OA'\n",
        "def distance(AB,OA,OAp) :\n",
        "    ApBp=AB*OAp/OA\n",
        "    return ApBp\n",
        "#Les valeurs sont données par l'utilisateur\n",
        "AB=float(input(\"Donnez la taille de l'objet  AB en mètre : \\n\"))\n",
        "OA=float(input(\"Donnez la distance OA en mètre : \\n\"))\n",
        "AOp =float(input(\"Donnez la distance OA' en mètre: \\n\"))\n",
        "#Appel de la fonction qui .......\n",
        "print(\"La taille de l'image est \",distance(AB,OA,OAp),\"m.\") "
      ],
      "execution_count": 0,
      "outputs": []
    }
  ]
}