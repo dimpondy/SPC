{
  "nbformat": 4,
  "nbformat_minor": 0,
  "metadata": {
    "colab": {
      "name": "2nd_Les lentilles_ELEVE.ipynb",
      "provenance": []
    },
    "kernelspec": {
      "name": "python3",
      "display_name": "Python 3"
    }
  },
  "cells": [
    {
      "cell_type": "markdown",
      "metadata": {
        "id": "n64XdozFSuXX",
        "colab_type": "text"
      },
      "source": [
        "# 2nd Les lentilles"
      ]
    },
    {
      "cell_type": "markdown",
      "metadata": {
        "colab_type": "text",
        "id": "rdQudgwxZuTc"
      },
      "source": [
        "## OBJECTIF :  Vous devez écrire un programme permettant de calculer  le grandissement G d'un objet à partir de grandeurs entrées par l'utilisateur"
      ]
    },
    {
      "cell_type": "markdown",
      "metadata": {
        "colab_type": "text",
        "id": "VwsJgqQ3bMc-"
      },
      "source": [
        "Mais avant toute chose, un peu de réflexion ...sur papier !"
      ]
    },
    {
      "cell_type": "markdown",
      "metadata": {
        "colab_type": "text",
        "id": "EstTy81LZ39t"
      },
      "source": [
        "Quelle grandeurs l'utilisateur doit-il entrer ?"
      ]
    },
    {
      "cell_type": "markdown",
      "metadata": {
        "colab_type": "text",
        "id": "bHNjKBEKZ-eE"
      },
      "source": [
        "Quelle est l'expression de la relation permettant de calculer le grandissement, noté G ?"
      ]
    },
    {
      "cell_type": "markdown",
      "metadata": {
        "colab_type": "text",
        "id": "-4BKilNGajMw"
      },
      "source": [
        "###A vous de jouer !"
      ]
    },
    {
      "cell_type": "code",
      "metadata": {
        "colab_type": "code",
        "id": "A1Xopzq6ah_T",
        "colab": {}
      },
      "source": [
        "import numpy as np\n",
        "\n",
        "\n",
        "\n",
        "\n",
        "\n",
        "\n"
      ],
      "execution_count": 0,
      "outputs": []
    },
    {
      "cell_type": "markdown",
      "metadata": {
        "id": "yjpF6Z_bKOxP",
        "colab_type": "text"
      },
      "source": [
        "##Ecrire un programme qui détermine la taille del'image A'B' à partir de AB, OA et OA'"
      ]
    },
    {
      "cell_type": "code",
      "metadata": {
        "id": "rhewfavuUaa5",
        "colab_type": "code",
        "colab": {}
      },
      "source": [
        "\n",
        "\n",
        "\n",
        "\n",
        "\n",
        "\n",
        "\n",
        "\n",
        "\n",
        "\n"
      ],
      "execution_count": 0,
      "outputs": []
    }
  ]
}