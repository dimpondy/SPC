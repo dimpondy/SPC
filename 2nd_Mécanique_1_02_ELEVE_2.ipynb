{
  "nbformat": 4,
  "nbformat_minor": 0,
  "metadata": {
    "colab": {
      "name": "2nd_Mécanique_1_02_ELEVE 2.ipynb",
      "provenance": [],
      "collapsed_sections": []
    },
    "kernelspec": {
      "name": "python3",
      "display_name": "Python 3"
    }
  },
  "cells": [
    {
      "cell_type": "markdown",
      "metadata": {
        "id": "UYtYa-G2f0Tp",
        "colab_type": "text"
      },
      "source": [
        "# **Mécanique**"
      ]
    },
    {
      "cell_type": "markdown",
      "metadata": {
        "id": "-qBvlZHPJkS1",
        "colab_type": "text"
      },
      "source": [
        "*Avant donc que d'écrire, apprenez à penser.\n",
        "Selon que notre idée est plus ou moins obscure, l'expression la suit, ou moins nette, ou plus pure.\n",
        "Ce que l'on conçoit bien s'énonce clairement, et les mots pour le dire arrivent aisément.                                                    - Nicolas Boileau, L'Art poétique*"
      ]
    },
    {
      "cell_type": "markdown",
      "metadata": {
        "id": "9cLGwywatkE0",
        "colab_type": "text"
      },
      "source": [
        "**Capacités numériques travaillées**: \n",
        "1.   représenter un nuage de points \n",
        "associé à la caractéristique d’un dipôle et modéliser la \n",
        "caractéristique de ce dipôle à l’aide d’un langage de \n",
        "programmation.\n",
        "2.  représenter des vecteurs vitesse d’un \n",
        "système modélisé par un point lors d’un mouvement à l’aide \n",
        "d’un langage de programmation. \n",
        "1.    représenter des vecteurs variation de \n",
        "vitesse d’un système modélisé par un point lors d’une évolution \n",
        "unidimensionnelle ou bidimensionnelle à l’aide d’un langage de \n",
        "programmation.\n"
      ]
    },
    {
      "cell_type": "markdown",
      "metadata": {
        "id": "VCyJ5c6dJylu",
        "colab_type": "text"
      },
      "source": [
        ""
      ]
    },
    {
      "cell_type": "markdown",
      "metadata": {
        "id": "VnKbxReNW25X",
        "colab_type": "text"
      },
      "source": [
        "https://ledatascientist.com/python-pour-la-data-science-les-bases/"
      ]
    },
    {
      "cell_type": "markdown",
      "metadata": {
        "id": "5O9ecjpgdMNT",
        "colab_type": "text"
      },
      "source": [
        "[Pour en savoir plus](http://www.python-simple.com/python-matplotlib/pyplot.php)"
      ]
    },
    {
      "cell_type": "markdown",
      "metadata": {
        "id": "GeB7NugqKvua",
        "colab_type": "text"
      },
      "source": [
        "# **M1 Tracé des positions successives d'un mobile lors d'un lancer de balle**"
      ]
    },
    {
      "cell_type": "markdown",
      "metadata": {
        "id": "6XUOyVi8MV7c",
        "colab_type": "text"
      },
      "source": [
        " \n",
        "On étudie le mouvement d'un ballon de basket à partir d'une chronophotographie dans le but de tracer les vecteurs vitesses au cours du temps.\n",
        "Les positions relevées toutes les 66 ms  sont rassemblées dans un tableau. \n"
      ]
    },
    {
      "cell_type": "markdown",
      "metadata": {
        "id": "gBTsp_Bo66M8",
        "colab_type": "text"
      },
      "source": [
        "\n",
        "\n",
        "*   t\t0\t0.066\t0.132\t0.198\t0.264\t0.330\t0.396\t0.462\t0.528\t0.594\t0.66\n",
        "*   x\t0.01\t0.25\t0.57\t0.91\t1.22\t1.54\t1.87\t2.16\t2.49\t2.81\t3.15\n",
        "*   y\t0.015\t0.34\t0.681\t1.01\t1.297\t1.559\t1.768\t1.95\t2.08\t2.158\t2.193\n",
        "\n",
        "\n",
        "\n",
        "\n",
        "\n",
        "\n",
        "\n",
        "\n"
      ]
    },
    {
      "cell_type": "markdown",
      "metadata": {
        "id": "FmeAamCjacaf",
        "colab_type": "text"
      },
      "source": [
        "## Créer un tableau de données"
      ]
    },
    {
      "cell_type": "markdown",
      "metadata": {
        "id": "Tbjqe4r-X002",
        "colab_type": "text"
      },
      "source": [
        "Pour créer un tableau de données\n",
        "https://ledatascientist.com/decouvrir-numpy/"
      ]
    },
    {
      "cell_type": "code",
      "metadata": {
        "id": "wFm-DoK9X5rf",
        "colab_type": "code",
        "outputId": "f92dc5c2-19ef-427c-ce47-42ab61c5737a",
        "colab": {
          "base_uri": "https://localhost:8080/",
          "height": 53
        }
      },
      "source": [
        "b = np.array([(0,0.01,0.015), (0.066,0.25,0.34)])\n",
        "print(b)"
      ],
      "execution_count": 0,
      "outputs": [
        {
          "output_type": "stream",
          "text": [
            "[[0.    0.01  0.015]\n",
            " [0.066 0.25  0.34 ]]\n"
          ],
          "name": "stdout"
        }
      ]
    },
    {
      "cell_type": "markdown",
      "metadata": {
        "id": "53pZ_inUFlHb",
        "colab_type": "text"
      },
      "source": [
        "##ANALYSE"
      ]
    },
    {
      "cell_type": "markdown",
      "metadata": {
        "id": "c9gHJfauFoQF",
        "colab_type": "text"
      },
      "source": [
        "*   Quelle commande pour créer un tableau de valeur ?\n",
        "*   Quels sont les séparateurs de données ? "
      ]
    },
    {
      "cell_type": "markdown",
      "metadata": {
        "id": "LQ9ohvYFgGCJ",
        "colab_type": "text"
      },
      "source": [
        "## Analysez les lignes de programmes puis exécutez-le !"
      ]
    },
    {
      "cell_type": "code",
      "metadata": {
        "id": "jvBNLe5pKLQl",
        "colab_type": "code",
        "colab": {}
      },
      "source": [
        "from matplotlib.pyplot import*\n",
        "\n",
        "x=[0.01,0.25,0.57,0.91,1.22,1.54,1.87,2.16,2.49,2.81,3.15]\n",
        "y=[0.01549,0.3404,0.6812,1.010,1.297,1.559,1.768,1.95,2.08,2.158,2.193]\n",
        "\n",
        "# Création et Affichage des données sous forme de tableau\n",
        "print(np.array([\"abscisse\",(x), \"ordonnée\",(y)]))\n",
        "plot(x,y,'D',label=\"y=f(x)\")\n",
        "axis([0,5,0,3])\n",
        "xlabel(\"X\")\n",
        "ylabel(\"y\")\n",
        "grid()\n",
        "legend()\n",
        "title(\"Trajectoire de la balle\")\n",
        "show()\n"
      ],
      "execution_count": 0,
      "outputs": []
    },
    {
      "cell_type": "markdown",
      "metadata": {
        "id": "PC-RRpW3F6qj",
        "colab_type": "text"
      },
      "source": [
        "## Analyse des lignes du programme"
      ]
    },
    {
      "cell_type": "markdown",
      "metadata": {
        "id": "PHET2el0GAfO",
        "colab_type": "text"
      },
      "source": [
        "*   Commentez la ligne 13"
      ]
    },
    {
      "cell_type": "markdown",
      "metadata": {
        "colab_type": "text",
        "id": "940miHtOGcOa"
      },
      "source": [
        "##Modifiez les lignes du programme"
      ]
    },
    {
      "cell_type": "markdown",
      "metadata": {
        "id": "8V4c4se0Gdeh",
        "colab_type": "text"
      },
      "source": [
        "*   Changer les marqueurs des points\n",
        "*   Changer le titre du graphique"
      ]
    },
    {
      "cell_type": "markdown",
      "metadata": {
        "id": "D6RH6IJYipeE",
        "colab_type": "text"
      },
      "source": [
        "## Une Version améliorée avec correlation de Pearson"
      ]
    },
    {
      "cell_type": "markdown",
      "metadata": {
        "id": "vr27AMCZVXPY",
        "colab_type": "text"
      },
      "source": [
        "https://www.datacorner.fr/correlation/\n",
        "\n",
        "https://openclassrooms.com/fr/courses/4525266-decrivez-et-nettoyez-votre-jeu-de-donnees/4725622-analysez-la-correlation-entre-deux-variables-quantitatives \n",
        "\n"
      ]
    },
    {
      "cell_type": "code",
      "metadata": {
        "id": "XAexXVEMiaSh",
        "colab_type": "code",
        "outputId": "8caae33c-ad09-47f4-b8d5-ea95d94f4276",
        "colab": {
          "base_uri": "https://localhost:8080/",
          "height": 315
        }
      },
      "source": [
        "from matplotlib.pyplot import*\n",
        "from scipy.stats import pearsonr\n",
        "#Création du tableau des valeurs du temps\n",
        "t=[]\n",
        "for i in range(11):\n",
        "  # Génère la 1ere ligne du tableau ( t)\n",
        "    t.append(i*0.066)\n",
        "# Liste des valeurs des corrdonnées x,y\n",
        "x=[0.01,0.25,0.57,0.91,1.22,1.54,1.87,2.16,2.49,2.81,3.15]\n",
        "y=[0.01549,0.3404,0.6812,1.010,1.297,1.559,1.768,1.95,2.08,2.158,2.193]\n",
        "plot(x,y,'D',color = 'red', linestyle = 'dashed', linewidth = 2,\n",
        "  markerfacecolor = 'blue', markersize = 5,label=\"y=f(x)\")\n",
        "xlabel(\"X\")\n",
        "ylabel(\"y\")\n",
        "axis([0,4,0,3])\n",
        "grid()\n",
        "legend()\n",
        "title(\"Trajectoire de la balle\",color = 'blue', fontsize = 16)\n",
        "show()\n",
        "#Coefficient de Pearson\n",
        "#Le coefficient de Pearson ou Pearson r est une mesure qui exprime à quel point\n",
        "#deux variables sont linéairement corrélées. Il est égale au quotient de la \n",
        "#covariance des deux variables et du produit des deux écarts-types\n",
        "coeff_pearson,_ = pearsonr(x,y)\n",
        "print(\"coefficient de Pearson = {}\".format(coeff_pearson))"
      ],
      "execution_count": 0,
      "outputs": [
        {
          "output_type": "display_data",
          "data": {
            "image/png": "[encoded data removed]",
            "text/plain": [
              "<Figure size 432x288 with 1 Axes>"
            ]
          },
          "metadata": {
            "tags": []
          }
        },
        {
          "output_type": "stream",
          "text": [
            "coefficient de Pearson = 0.9726703063434554\n"
          ],
          "name": "stdout"
        }
      ]
    },
    {
      "cell_type": "markdown",
      "metadata": {
        "colab_type": "text",
        "id": "XeBgJEwVHJ2m"
      },
      "source": [
        "##Modifiez les lignes du programme"
      ]
    },
    {
      "cell_type": "markdown",
      "metadata": {
        "id": "55jy3BNSHKj9",
        "colab_type": "text"
      },
      "source": [
        "*   Changer la couleur du titre\n",
        "*   Changer le type de ligne\n",
        "*   Chnager la couleur de la ligne reliant les points\n",
        "*   Les valeurs ( x,y) sont elles corrélées ou non ? "
      ]
    },
    {
      "cell_type": "markdown",
      "metadata": {
        "id": "V1aZ921yV0J4",
        "colab_type": "text"
      },
      "source": [
        "# Corrélation avec Panda  A VOIR"
      ]
    },
    {
      "cell_type": "code",
      "metadata": {
        "id": "Rgt8gh1SVwYV",
        "colab_type": "code",
        "colab": {}
      },
      "source": [
        "from matplotlib.pyplot import*\n",
        "import pandas as pd\n",
        "#Création du tableau des valeurs du temps\n",
        "t=[]\n",
        "for i in range(11):\n",
        "  # Génère la 1ere ligne du tableau ( t)\n",
        "    t.append(i*0.066)\n",
        "# Liste des valeurs des corrdonnées x,y\n",
        "x=[0.01,0.25,0.57,0.91,1.22,1.54,1.87,2.16,2.49,2.81,3.15]\n",
        "y=[0.01549,0.3404,0.6812,1.010,1.297,1.559,1.768,1.95,2.08,2.158,2.193]\n",
        "plot(x,y,'D',color = 'red', linestyle = 'dashed', linewidth = 2,\n",
        "  markerfacecolor = 'blue', markersize = 5,label=\"y=f(x)\")\n",
        "xlabel(\"X\")\n",
        "ylabel(\"y\")\n",
        "axis([0,4,0,3])\n",
        "grid()\n",
        "legend()\n",
        "title(\"Trajectoire de la balle\",color = 'blue', fontsize = 16)\n",
        "show()\n",
        "#Coefficient de Pearson\n",
        "#Le coefficient de Pearson ou Pearson r est une mesure qui exprime à quel point\n",
        "#deux variables sont linéairement corrélées. Il est égale au quotient de la \n",
        "#covariance des deux variables et du produit des deux écarts-types\n",
        "coef=k.corr(method='pearson')\n",
        "print(\"coefficient de Pearson={}\".format(coef))"
      ],
      "execution_count": 0,
      "outputs": []
    },
    {
      "cell_type": "markdown",
      "metadata": {
        "colab_type": "text",
        "id": "O1fLl0IiG5J4"
      },
      "source": [
        "##Modifiez les lignes du programme"
      ]
    },
    {
      "cell_type": "markdown",
      "metadata": {
        "id": "7KX-OeNUG5u_",
        "colab_type": "text"
      },
      "source": [
        "*   "
      ]
    },
    {
      "cell_type": "markdown",
      "metadata": {
        "id": "Pq61kdcC0KsQ",
        "colab_type": "text"
      },
      "source": [
        "# Avec BARRES d 'ERREUR"
      ]
    },
    {
      "cell_type": "code",
      "metadata": {
        "id": "6-1SNWnSxvIn",
        "colab_type": "code",
        "colab": {}
      },
      "source": [
        "from matplotlib.pyplot import *\n",
        "import matplotlib.pyplot as plt\n",
        "x=[1,2,3,4]\n",
        "y=[2,4,6,9]\n",
        "plot(x,y,'D',label=\"y=f(x)\")\n",
        "xlabel(\"X\")\n",
        "ylabel(\"y\")\n",
        "axis([0,5,0,10])\n",
        "grid()\n",
        "legend()\n",
        "title(\"Trajectoire de la balle\",color = 'blue', fontsize = 16)\n",
        "show()\n",
        "xErrorValues = [0.5, 0.5, 0.5, 0.5]\n",
        "yErrorValues = [0.5, 0.5, 0.5,0.5]\n",
        "plt.scatter(x, y, zorder = 2)\n",
        "plt.errorbar(x, y, xerr = xErrorValues, yerr = yErrorValues,\n",
        "  fmt = 'none', capsize = 10, ecolor = 'red', zorder = 1)"
      ],
      "execution_count": 0,
      "outputs": []
    },
    {
      "cell_type": "markdown",
      "metadata": {
        "colab_type": "text",
        "id": "_Q1GFWx-HoaP"
      },
      "source": [
        "##Modifiez les lignes du programme"
      ]
    },
    {
      "cell_type": "markdown",
      "metadata": {
        "id": "pW1VpNYzHpN-",
        "colab_type": "text"
      },
      "source": [
        "*   Modifier le programme pour que l'incertitude soit demandé à l'utilisateur ( en % ) , la calcul et l'affiche."
      ]
    },
    {
      "cell_type": "markdown",
      "metadata": {
        "id": "mxa17TLki6TM",
        "colab_type": "text"
      },
      "source": [
        "## Plongeons d'un nagueur"
      ]
    },
    {
      "cell_type": "code",
      "metadata": {
        "id": "alF_fg5faQ7X",
        "colab_type": "code",
        "colab": {}
      },
      "source": [
        "from matplotlib.pyplot import*\n",
        "title(\"Nuage de points de la fonction f définie par f(x)=100-1/2.g.x^2\")\n",
        "# Légende des axes des abscises et ordonnées\n",
        "xlabel('axe des X')\n",
        "ylabel('axe des Y')\n",
        "g=9.81\n",
        "# Min et max des axes\n",
        "axis([0,10,0,102])\n",
        "for i in range(11):\n",
        "    plot(i,100-0.5*g*i**2,'r.',ms=10)\n",
        "savefig('NuagePoint_V1.jpg')\n",
        "grid()    # Affiche une grille\n",
        "show()    # Affiche la figure\t"
      ],
      "execution_count": 0,
      "outputs": []
    },
    {
      "cell_type": "markdown",
      "metadata": {
        "id": "BrRkx_-_cEYT",
        "colab_type": "text"
      },
      "source": [
        "## Analysez les lignes du programme et éxécutez-le !"
      ]
    },
    {
      "cell_type": "markdown",
      "metadata": {
        "id": "wBb5usoNcKAR",
        "colab_type": "text"
      },
      "source": [
        "##Modifiez les lignes du programme"
      ]
    },
    {
      "cell_type": "markdown",
      "metadata": {
        "id": "N5jyrR4HcRAx",
        "colab_type": "text"
      },
      "source": [
        "Modifier les lignes du programmes pour\n",
        "\n",
        "1.   Adapter l'échelle des abscisses\n",
        "2.   Permettre à l'utilisateur de changer la valeur de g ( pour étudier la trajectoire sur Mars par ex )\n",
        "\n"
      ]
    },
    {
      "cell_type": "code",
      "metadata": {
        "id": "67ferha2lIro",
        "colab_type": "code",
        "outputId": "f779b6ce-d4f3-4f2e-b6cc-cee9be32a432",
        "colab": {
          "base_uri": "https://localhost:8080/",
          "height": 278
        }
      },
      "source": [
        "from matplotlib.pyplot import*\n",
        "from numpy import*\n",
        "X=2;Y=4\n",
        "U=4;V=5\n",
        "#...................\n",
        "ax=axes()\n",
        "# Dessine un vecteur U d'origine ( x,y) et de norme Ux=U et Ux=V, ..)\n",
        "ax.quiver(X, Y, U, V,units='x',color = 'blue',scale=1)\n",
        "grid()\n",
        "#................\n",
        "ax.set_aspect('equal')\n",
        "xlim(0,12)\n",
        "ylim(0,10)\n",
        "title('Dessiner un vecteur avec Quiver',fontsize=8)\n",
        "savefig('Vecteur2.jpg', bbox_inches='tight')\n",
        "show()\n",
        "close()\n"
      ],
      "execution_count": 0,
      "outputs": [
        {
          "output_type": "display_data",
          "data": {
            "image/png": "[encoded data removed]",
            "text/plain": [
              "<Figure size 432x288 with 1 Axes>"
            ]
          },
          "metadata": {
            "tags": []
          }
        }
      ]
    },
    {
      "cell_type": "markdown",
      "metadata": {
        "id": "mSPjbwMqf5v_",
        "colab_type": "text"
      },
      "source": [
        "# **M2 Tracé de vecteurs Vitesse lors d'un mouvement rectiligne ( Ex: La chute libre d'une balle)** "
      ]
    },
    {
      "cell_type": "markdown",
      "metadata": {
        "id": "LL2zpWSmkrIv",
        "colab_type": "text"
      },
      "source": [
        "Pour Quiver, cf [https://matplotlib.org/api/_as_gen/matplotlib.pyplot.quiver.html](https://matplotlib.org/api/_as_gen/matplotlib.pyplot.quiver.html)\n",
        "\n",
        "https://pythonforundergradengineers.com/quiver-plot-with-matplotlib-and-jupyter-notebooks.html "
      ]
    },
    {
      "cell_type": "code",
      "metadata": {
        "id": "s0MS45aIgUZn",
        "colab_type": "code",
        "outputId": "c5954658-3d60-496f-d2a4-8b2c0a705aa9",
        "colab": {
          "base_uri": "https://localhost:8080/",
          "height": 295
        }
      },
      "source": [
        "import numpy as np\n",
        "import matplotlib.pyplot as plt\n",
        "\n",
        "x=np.array([0,0,0,0])\n",
        "y=np.array([1.698,1.691,1.674,1.643])\n",
        "plt.plot(x,y,'o',markersize= 3)\n",
        "N=4\n",
        "Dt=0.035\n",
        "for k in range (0,N-1) :\n",
        "    vy=(y[k+1]-y[k])\n",
        "    echelle=0.4\n",
        "    vy=vy*echelle\n",
        "    plt.quiver(x[k],y[k],0,vy,color='red', scale=1,scale_units='xy')\n",
        "plt.xlabel(\"x (en m)\")\n",
        "plt.ylabel(\"y (en m)\")\n",
        "plt.title(\"Vecteurs vitesse\")\n",
        "plt.text(-0.046,1.65,\"Echelle 1cm <-> 0.4 m/s\", color=\"blue\")\n",
        "plt.grid()\n",
        "plt.show() "
      ],
      "execution_count": 0,
      "outputs": [
        {
          "output_type": "display_data",
          "data": {
            "image/png": "[encoded data removed]",
            "text/plain": [
              "<Figure size 432x288 with 1 Axes>"
            ]
          },
          "metadata": {
            "tags": []
          }
        }
      ]
    },
    {
      "cell_type": "markdown",
      "metadata": {
        "id": "1AN2I6Oz0PED",
        "colab_type": "text"
      },
      "source": [
        "## Analysez les lignes du programme"
      ]
    },
    {
      "cell_type": "markdown",
      "metadata": {
        "id": "IHGtAIw9gWXv",
        "colab_type": "text"
      },
      "source": [
        "1.   Quelle commande indique que les valeurs sont dans un tableau  ?\n",
        "2.   Quelle commande pour afficher un point ?\n",
        "1.   Quelle bibliothèque appelons-nous pour cela en début de programme ? \n",
        "2.   Quelle est la commande pour afficher un vecteur ?"
      ]
    },
    {
      "cell_type": "markdown",
      "metadata": {
        "id": "sWQLUu1oggZh",
        "colab_type": "text"
      },
      "source": [
        "##Modifiez les lignes du programme"
      ]
    },
    {
      "cell_type": "markdown",
      "metadata": {
        "id": "EVuWlyB8gkZH",
        "colab_type": "text"
      },
      "source": [
        "\n",
        "2.   Changer les titre les grandeurs en abcisses et en ordonnées\n",
        "1.   Ajouter d'autres points ( x,y)\n",
        "2.   pour agrandir les vecteurs\n",
        "2.   pour demander à l'utilisateur la durée entre 2 images lors de l'enregistrement\n"
      ]
    },
    {
      "cell_type": "markdown",
      "metadata": {
        "id": "wREWyJNdz7gc",
        "colab_type": "text"
      },
      "source": [
        "# **M3 Tracé de vecteurs Déplacement lors d'un mouvement plan ( Ex: Lancer d'une balle )** "
      ]
    },
    {
      "cell_type": "markdown",
      "metadata": {
        "id": "6YIUyecyKL1Q",
        "colab_type": "text"
      },
      "source": [
        "Tracé du vecteur position au cours du temps"
      ]
    },
    {
      "cell_type": "code",
      "metadata": {
        "id": "iM171-fu1eFJ",
        "colab_type": "code",
        "outputId": "f7522100-2c52-4710-f720-1acdc71de73d",
        "colab": {
          "base_uri": "https://localhost:8080/",
          "height": 295
        }
      },
      "source": [
        "from matplotlib.pyplot import*\n",
        "\n",
        "#Création du tableau des valeurs du temps\n",
        "t=[]\n",
        "for i in range(11):\n",
        "    t.append(i*0.066)\n",
        "x=[0.01,0.25,0.57,0.91,1.22,1.54,1.87,2.16,2.49,2.81,3.15]\n",
        "y=[0.01549,0.3404,0.6812,1.010,1.297,1.559,1.768,1.95,2.08,2.158,2.193]\n",
        "plot(x,y,'r+',label=\"y=f(x)\")\n",
        "\n",
        "#On enlève la dernière valeur\n",
        "n=len(t)-1\n",
        "#on fait tracer une série de vecteurs\n",
        "for i in range(n) :\n",
        "    arrow(x[i],y[i],x[i+1]-x[i],y[i+1]-y[i],head_width=0.05)\n",
        "# de position initiale x[i],y[i], de coordonnées x[i+1]-x[i] et y[i+1]-y[i]\n",
        "# head_width est la largeur de la tête\n",
        "xlabel(\"x\")\n",
        "ylabel(\"y\")\n",
        "grid()\n",
        "legend()\n",
        "title(\"Vecteurs déplacement\")\n",
        "savefig('Golf_Vecteur_Deplacement.jpg')\n",
        "show()"
      ],
      "execution_count": 0,
      "outputs": [
        {
          "output_type": "display_data",
          "data": {
            "image/png": "[encoded data removed]",
            "text/plain": [
              "<Figure size 432x288 with 1 Axes>"
            ]
          },
          "metadata": {
            "tags": []
          }
        }
      ]
    },
    {
      "cell_type": "markdown",
      "metadata": {
        "id": "DehdDwri1hBu",
        "colab_type": "text"
      },
      "source": [
        "## Analysez les lignes du programme"
      ]
    },
    {
      "cell_type": "markdown",
      "metadata": {
        "id": "mHOW1jB61oRU",
        "colab_type": "text"
      },
      "source": [
        "# M4  Tracé du vecteur Vitesse au cours du temps t[i+1]-t[i]"
      ]
    },
    {
      "cell_type": "markdown",
      "metadata": {
        "id": "N_rdHrGJkUWP",
        "colab_type": "text"
      },
      "source": [
        "[ lien](https://matplotlib.org/api/_as_gen/matplotlib.pyplot.quiver.html)"
      ]
    },
    {
      "cell_type": "code",
      "metadata": {
        "id": "jIGN0LqXJr0_",
        "colab_type": "code",
        "outputId": "03a54d11-64bd-4126-98a5-7700269017c8",
        "colab": {
          "base_uri": "https://localhost:8080/",
          "height": 281
        }
      },
      "source": [
        "from matplotlib.pyplot import*\n",
        "\n",
        "#Création du tableau des valeurs du temps de 0 à 10\n",
        "t=[]\n",
        "for i in range(11):\n",
        "    t.append(i*0.066)\n",
        "x=[0.01,0.25,0.57,0.91,1.22,1.54,1.87,2.16,2.49,2.81,3.15]\n",
        "y=[0.01549,0.3404,0.6812,1.010,1.297,1.559,1.768,1.95,2.08,2.158,2.193]\n",
        "plot(x,y,'r+',label=\"y=f(x)\")\n",
        "# Calcul de la longueur du tableau et expulsion de la dernière valeur car on ne peut calculer pour t+1 \n",
        "m=len(t)-1\n",
        "for i in range(m) :\n",
        "    arrow(x[i],y[i],0.15*(x[i+1]-x[i])/(t[i+1]-t[i]),\n",
        "    0.12*(y[i+1]-y[i])/(t[i+1]-t[i]),head_width=0.05)\n",
        "# on multiplie par 0.1 pour que la figure soit lisible.\n",
        "xlim(0,4)\n",
        "ylim(0,3)\n",
        "grid()\n",
        "title(\"Vecteurs déplacement\")\n",
        "savefig('Vecteur_Vitesse.jpg')\n",
        "show()"
      ],
      "execution_count": 0,
      "outputs": [
        {
          "output_type": "display_data",
          "data": {
            "image/png": "[encoded data removed]",
            "text/plain": [
              "<Figure size 432x288 with 1 Axes>"
            ]
          },
          "metadata": {
            "tags": []
          }
        }
      ]
    },
    {
      "cell_type": "markdown",
      "metadata": {
        "id": "HazkToepjW81",
        "colab_type": "text"
      },
      "source": [
        "## Amélioration possibles avec prise en compte de l'expression de la vitesse de la forme x[i+1]-x[i-1])/(t[i+1]-t[i-1])"
      ]
    },
    {
      "cell_type": "code",
      "metadata": {
        "id": "m4a22dxFjWQ0",
        "colab_type": "code",
        "outputId": "780e96d6-54b7-4dc6-ce9c-de0378972cab",
        "colab": {
          "base_uri": "https://localhost:8080/",
          "height": 281
        }
      },
      "source": [
        "from matplotlib.pyplot import*\n",
        "# Problème avec le 1er point !!!\n",
        "#Création du tableau des valeurs du temps de 0 à 10\n",
        "t=[]\n",
        "for i in range(11):\n",
        "    t.append(i*0.066)\n",
        "x=[0.01,0.25,0.57,0.91,1.22,1.54,1.87,2.16,2.49,2.81,3.15]\n",
        "y=[0.01549,0.3404,0.6812,1.010,1.297,1.559,1.768,1.95,2.08,2.158,2.193]\n",
        "plot(x,y,'r+',label=\"y=f(x)\")\n",
        "# Calcul de la longueur du tableau et expulsion de la dernière valeur car on ne peut calculer pour t+1 \n",
        "m=len(t)-1\n",
        "for i in range(m) :\n",
        "    arrow(x[i],y[i],0.15*(x[i+1]-x[i-1])/(t[i+1]-t[i-1]),\n",
        "    0.14*(y[i+1]-y[i-1])/(t[i+1]-t[i-1]),head_width=0.05)\n",
        "# On multiplie par 0.14 pour que la figure soit lisible.\n",
        "xlim(0,4)\n",
        "ylim(0,2.5)\n",
        "grid()\n",
        "title(\"Vecteurs vitesses\")\n",
        "savefig('Lancer_Vecteur_Vitesse.jpg')\n",
        "show()"
      ],
      "execution_count": 0,
      "outputs": [
        {
          "output_type": "display_data",
          "data": {
            "image/png": "[encoded data removed]",
            "text/plain": [
              "<Figure size 432x288 with 1 Axes>"
            ]
          },
          "metadata": {
            "tags": []
          }
        }
      ]
    },
    {
      "cell_type": "markdown",
      "metadata": {
        "id": "YwVS1q-Ky7Hj",
        "colab_type": "text"
      },
      "source": [
        "# **M3 Tracé d'un signal  sinusoidale**"
      ]
    },
    {
      "cell_type": "code",
      "metadata": {
        "id": "GkOa0GGkzDff",
        "colab_type": "code",
        "outputId": "923981db-f5ea-461f-e175-efaec44d536a",
        "colab": {
          "base_uri": "https://localhost:8080/",
          "height": 265
        }
      },
      "source": [
        "import numpy as np\n",
        "import matplotlib.pyplot as plt\n",
        "#Création d'une variable temps ,t, prenant 1000 valeurs entre 0 et 0,1 secondes#\n",
        "t = np.linspace(0,0.1,1000)\n",
        "# La fréquence est fixée\n",
        "f=100\n",
        "#définition de la fonction y\n",
        "y=3*np.sin(2*np.pi*f*t)\n",
        "plt.plot(t,y,'*',color='blue')\n",
        "plt.show()"
      ],
      "execution_count": 0,
      "outputs": [
        {
          "output_type": "display_data",
          "data": {
            "image/png": "[encoded data removed]",
            "text/plain": [
              "<Figure size 432x288 with 1 Axes>"
            ]
          },
          "metadata": {
            "tags": []
          }
        }
      ]
    },
    {
      "cell_type": "markdown",
      "metadata": {
        "id": "sffgKwhTHxZ-",
        "colab_type": "text"
      },
      "source": [
        ""
      ]
    },
    {
      "cell_type": "markdown",
      "metadata": {
        "id": "sVKenx7_0auk",
        "colab_type": "text"
      },
      "source": [
        "## Analysez les lignes du programme"
      ]
    },
    {
      "cell_type": "markdown",
      "metadata": {
        "id": "BqbP1oXk0fZo",
        "colab_type": "text"
      },
      "source": [
        "Analysez puis exécutez le programme"
      ]
    },
    {
      "cell_type": "markdown",
      "metadata": {
        "id": "3_vfCMBwzK38",
        "colab_type": "text"
      },
      "source": [
        "##Modifiez les lignes du programme"
      ]
    },
    {
      "cell_type": "markdown",
      "metadata": {
        "id": "nJtdmHflzNWC",
        "colab_type": "text"
      },
      "source": [
        "\n",
        "\n",
        "1.  **Ajouter une ligne demandant à l'utilisateur** \n",
        "*  la fréquence du signal\n",
        "*  l'amplitude du signal\n",
        "\n",
        "1.   **Ajouter une ligne pour afficher** \n",
        "* un titre et une légende en abscisse et ordonnée\n",
        "* une grille afin de lire des valeurs\n",
        " \n",
        "2.  ** Ajouter une ligne pour afficher plus ou moins de point**\n"
      ]
    },
    {
      "cell_type": "markdown",
      "metadata": {
        "id": "tao0aN64HzFN",
        "colab_type": "text"
      },
      "source": [
        "# Addition d'ondes sinusoidales et variation du déphasage"
      ]
    },
    {
      "cell_type": "markdown",
      "metadata": {
        "id": "32MvFyXZH4Yi",
        "colab_type": "text"
      },
      "source": [
        "**Aides pour la programmation avec Python**\n",
        "1.  Charger les bibliothèques numpy et matplotlib.pyplot. \n",
        "2.  Initialiser les variables suivantes : T à 1 (période 1 seconde), Y1max et Y2max à 2 unités. \n",
        "3.  Demander à l'utilisateur la valeur du déphasage nommée phi\n",
        "4.  Créer une liste d'abscisses nommé t prenant 400 valeurs entre 0 et 4 (en utilisant la boucle « for i \n",
        "in range »). \n",
        "5.  Créer trois listes d'ordonnées y1, y2, y en calculant pour chacune des valeurs de la liste t, \n",
        "respectivement cos(2t/T), cos(2t/T+) et cos(2t/T)+cos(2t/T+). \n",
        "6.  Tracer les trois fonctions et afficher la figure. "
      ]
    },
    {
      "cell_type": "code",
      "metadata": {
        "id": "j3yqfj4EJAnF",
        "colab_type": "code",
        "colab": {}
      },
      "source": [
        "import math\n",
        "import matplotlib.pyplot as plt\n",
        "\n",
        "\n",
        "\n",
        "\n",
        "\n",
        "\n",
        "\n",
        "\n"
      ],
      "execution_count": 0,
      "outputs": []
    },
    {
      "cell_type": "markdown",
      "metadata": {
        "id": "4OmpZjtq25sm",
        "colab_type": "text"
      },
      "source": [
        "#Import de données sous format CSV"
      ]
    }
  ]
}