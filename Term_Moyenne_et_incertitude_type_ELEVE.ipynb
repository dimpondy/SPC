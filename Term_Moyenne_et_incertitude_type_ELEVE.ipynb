{
  "nbformat": 4,
  "nbformat_minor": 0,
  "metadata": {
    "colab": {
      "name": "Term_Moyenne et incertitude type_ELEVE.ipynb",
      "provenance": [],
      "collapsed_sections": []
    },
    "kernelspec": {
      "name": "python3",
      "display_name": "Python 3"
    }
  },
  "cells": [
    {
      "cell_type": "markdown",
      "metadata": {
        "id": "L3_sxmiYvpBg",
        "colab_type": "text"
      },
      "source": [
        "# Détermination de l'incertitude de mesure : Calcul de la Moyenne et de l'incertitude type de valeurs expérimentales\n",
        "https://docs.scipy.org/doc/scipy/reference/stats.html\n",
        "https://vigon.pages.math.unistra.fr/-/aleaDataSignal/-/jobs/11233/artifacts/public/alea/04-plusDeLois.html\n"
      ]
    },
    {
      "cell_type": "markdown",
      "metadata": {
        "id": "zKmPuGgoyeGj",
        "colab_type": "text"
      },
      "source": [
        "**1ère METHODE en utilisant les relation de moyenne et d'écart**\n",
        "-   Remplacer ces valeurs par celles obtenues par les groupes\n",
        "-   Modifier les Paramètres du graphiques\n",
        "-   Compléter les lignes incomplètes\n",
        "-   Arrondir les valeurs  à 3 chiffres après la virgule"
      ]
    },
    {
      "cell_type": "code",
      "metadata": {
        "id": "Ybn7EbGCvn_G",
        "colab_type": "code",
        "outputId": "2c1de8d2-abca-453b-f284-04a79e061a85",
        "colab": {
          "base_uri": "https://localhost:8080/",
          "height": 389
        }
      },
      "source": [
        "import numpy as np\n",
        "from scipy.stats import *\n",
        "from math import*\n",
        "import numpy as np\n",
        "from scipy import *\n",
        "import scipy.stats  as stats\n",
        "import statistics\n",
        "import matplotlib.pyplot as plt\n",
        "\n",
        "# Valeurs de volume de solution titrante versée à l'équivalence obtenu par différents groupes\n",
        "valeurs =[24.1 ,25,26,25.4,23,25]\n",
        "\n",
        "# Calcul de la moyenne\n",
        "moy=np.mean(valeurs)\n",
        "# Calcul de l'écart type\n",
        "etype=np.std(valeurs)\n",
        "# Calcul de l'effectif\n",
        "effectif=len(valeurs)\n",
        "# Calcul de l'incertitude type\n",
        "itype=etype/np.sqrt(effectif)\n",
        "# Affichage des données statistiques\n",
        "print(\"Les valeurs obtenues par les groupes sont : \",.........)\n",
        "print('La moyenne des valeurs étudiées est', .........)\n",
        "print('L effectif des valeurs étudiées est', ......)\n",
        "print('L écart_type des valeurs étudiées est', round(..........,2))\n",
        "print(\"L'incertitude des valeurs étudiées est\",round(..........,2))\n",
        "\n",
        "plt.hist(valeurs,bins=20,range=(22,26),align=\"right\",rwidth=0.9,color=\"b\",label=\"V titrant\")\n",
        "plt.title(\"volume de solution titrante versée à l'équivalence\")\n",
        "plt.xlabel(\"Volume (mL)\")\n",
        "plt.ylabel(\"Fréquence\")\n",
        "plt.legend()\n",
        "plt.show()"
      ],
      "execution_count": 0,
      "outputs": [
        {
          "output_type": "stream",
          "text": [
            "Les valeurs obtnues par lesgroupes sont :  [24.1, 25, 26, 25.4, 23, 25]\n",
            "La moyenne des valeurs étudiées est 24.75\n",
            "L effectif des valeurs étudiées est 6\n",
            "L écart_type des valeurs étudiées est 0.97\n",
            "L'incertitude des valeurs étudiées est 0.39\n"
          ],
          "name": "stdout"
        },
        {
          "output_type": "display_data",
          "data": {
            "image/png": "[encoded data removed]",
            "text/plain": [
              "<Figure size 432x288 with 1 Axes>"
            ]
          },
          "metadata": {
            "tags": [],
            "needs_background": "light"
          }
        }
      ]
    },
    {
      "cell_type": "markdown",
      "metadata": {
        "colab_type": "text",
        "id": "cLkbeJqMyruZ"
      },
      "source": [
        "**2ème METHODE à analyser en utilisant la bibliothèque SCIPY de Python** \n",
        "\n",
        "https://code.tutsplus.com/fr/tutorials/mathematical-modules-in-python-statistics--cms-27750 "
      ]
    },
    {
      "cell_type": "code",
      "metadata": {
        "id": "TarJ8zXIRPNy",
        "colab_type": "code",
        "outputId": "c3182c91-aa79-44ac-beeb-f553cdce0037",
        "colab": {
          "base_uri": "https://localhost:8080/",
          "height": 378
        }
      },
      "source": [
        "from math import*\n",
        "import matplotlib.pyplot as plt\n",
        "import numpy as np\n",
        "from scipy import *\n",
        "import numpy as np\n",
        "import scipy.stats  as stats\n",
        "import statistics\n",
        "\n",
        "# Valeurs de capacités mesurées\n",
        "valeurs=[24.1 ,25,26,25.4,23.5,25]\n",
        "essai=[1,2,3,4,5,6]\n",
        "plt.plot(essai,valeurs,'o', c='b',linestyle = 'dashed',label='Points issus de mesure du dipole 1')\n",
        "\n",
        "#Moyenne avec Numpy\n",
        "m = np.mean(valeurs)\n",
        "\n",
        "#Moyenne avec Statistics\n",
        "p=statistics.mean([24,25,25.2,27,28,23,25])\n",
        "\n",
        "#La fonction mode() renvoie le point de données le plus courant à partir de données numériques discrètes \n",
        "mode=statistics.mode(valeurs)\n",
        "\n",
        "#la valeur médiane des données numériques données en calculant la moyenne de deux points intermédiaires si nécessaire. \n",
        "#Si le nombre de points de données est impair, il renvoie le point central. \n",
        "#Si le nombre de points de données est pair, il renvoie la moyenne de deux valeurs médianes.\n",
        "ml=statistics.median_low(valeurs)\n",
        "mh=statistics.median_high(valeurs)\n",
        "\n",
        "#ecart tytpe (sigma) qui mesure de dispersion de données. Écart-type = σ= √ [(Σ((X-μ)2))/(N)]\n",
        "sigma = np.std(valeurs,ddof=1)\n",
        "\n",
        "print(\"La valeur moyenne est de\",round(m,2))\n",
        "print(\"La valeur moyenne 2 est de\",round(p,2))\n",
        "print(\"La médiane Haute est de\",round(mh,2))\n",
        "print(\"La médiane Basse est de\",round(ml,2))\n",
        "print(\"le point de données le plus fréquent est de\",mode)\n",
        "print(\"L'écart-type est de\",round(sigma,3))\n"
      ],
      "execution_count": 0,
      "outputs": [
        {
          "output_type": "stream",
          "text": [
            "La valeur moyenne est de 24.83\n",
            "La valeur moyenne 2 est de 25.31\n",
            "La médiane Haute est de 25\n",
            "La médiane Basse est de 25\n",
            "le point de données le plus fréquent est de 25\n",
            "L'écart-type est de 0.9\n"
          ],
          "name": "stdout"
        },
        {
          "output_type": "display_data",
          "data": {
            "image/png": "[encoded data removed]",
            "text/plain": [
              "<Figure size 432x288 with 1 Axes>"
            ]
          },
          "metadata": {
            "tags": [],
            "needs_background": "light"
          }
        }
      ]
    }
  ]
}