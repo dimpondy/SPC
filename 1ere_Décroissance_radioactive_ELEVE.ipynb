{
  "nbformat": 4,
  "nbformat_minor": 0,
  "metadata": {
    "colab": {
      "name": "1ere_Décroissance_radioactive_ELEVE.ipynb",
      "provenance": []
    },
    "kernelspec": {
      "name": "python3",
      "display_name": "Python 3"
    }
  },
  "cells": [
    {
      "cell_type": "markdown",
      "metadata": {
        "id": "ofhPZPe1joa1",
        "colab_type": "text"
      },
      "source": [
        "# Objectif 1 : Nombre aléatoire de Pile et de Face d'une pièce de monnaie"
      ]
    },
    {
      "cell_type": "markdown",
      "metadata": {
        "id": "TNd8PDhlkVz0",
        "colab_type": "text"
      },
      "source": [
        "-   Compléter les lignes afin de cumuler le nombre de pile et de face obtenus\n",
        "-   Modifier le nombre de lancer !"
      ]
    },
    {
      "cell_type": "code",
      "metadata": {
        "id": "YHw2eP3jDZfQ",
        "colab_type": "code",
        "outputId": "d40ff13b-15aa-4363-e2ee-a79bdcbdddc6",
        "colab": {
          "base_uri": "https://localhost:8080/",
          "height": 55
        }
      },
      "source": [
        "import random\n",
        "pile = 0\n",
        "face = 0\n",
        "for i in range(0,10):\n",
        "  if random.randint(1,2) ==1 :\n",
        "    pile = .......\n",
        "  else :\n",
        "    face = ......\n",
        "print(\"pile= \",pile)\n",
        "print(\"face= \",face)"
      ],
      "execution_count": 1,
      "outputs": [
        {
          "output_type": "stream",
          "text": [
            "pile=  3\n",
            "face=  7\n"
          ],
          "name": "stdout"
        }
      ]
    },
    {
      "cell_type": "markdown",
      "metadata": {
        "id": "22fwxmorjz-A",
        "colab_type": "text"
      },
      "source": [
        "# Objectif 2 : Nombre de noyaux restants d'une population aprés désintégrations avec une probabilité de 1 chance / 2\n",
        "-   Compléter pour cacluler le nombre de noayux restants\n",
        "-   Modifier la probabilité de se désintégrer"
      ]
    },
    {
      "cell_type": "code",
      "metadata": {
        "id": "b3QmF5vYEXF9",
        "colab_type": "code",
        "outputId": "42d9d73c-b6bf-4829-9ccb-f6f995f9605b",
        "colab": {
          "base_uri": "https://localhost:8080/",
          "height": 36
        }
      },
      "source": [
        "import random\n",
        "# Initialisations des variables \n",
        "NbAtoms = 1000\n",
        "NbAtomRestants = NbAtoms\n",
        "for i in range(0,NbAtoms):\n",
        "# la probabilité de se désintégrer est de 1 chance sur 2\n",
        "  if random.randint(1,2) == 1 :\n",
        "     NbAtomRestants = ...............................\n",
        "print(\"Le Nombre de noyaux restants est de \",NbAtomRestants)"
      ],
      "execution_count": 2,
      "outputs": [
        {
          "output_type": "stream",
          "text": [
            "Le Nombre de noyaux restants est de  515\n"
          ],
          "name": "stdout"
        }
      ]
    },
    {
      "cell_type": "markdown",
      "metadata": {
        "id": "fYY9M_4VkCws",
        "colab_type": "text"
      },
      "source": [
        "# Objectif 3 : Affichage du nombre de noyaux restants"
      ]
    },
    {
      "cell_type": "markdown",
      "metadata": {
        "id": "coQ50A01lEna",
        "colab_type": "text"
      },
      "source": [
        "-   Modifier pour arrêter le graphique lorsque N = N/2 \n",
        "-   Quelle durée particulière obtient -on ? "
      ]
    },
    {
      "cell_type": "code",
      "metadata": {
        "id": "Gzp_FW4NGShb",
        "colab_type": "code",
        "colab": {
          "base_uri": "https://localhost:8080/",
          "height": 1000
        },
        "outputId": "c43b77f7-655b-4d35-847f-bccc5450a030"
      },
      "source": [
        "import random\n",
        "# Définition de la fonction de desintegration qui affichera le nombre de noyaux restants après désintégration\n",
        "def desintegration(NbAtoms) :\n",
        "    NbAtomRestants = NbAtoms\n",
        "    for i in range(0,NbAtoms):\n",
        "# On fixe la probabilité de se désintégrer à 1 chance sur 10      \n",
        "      if random.randint(1,10) == 1 :\n",
        "        NbAtomRestants = NbAtomRestants -1\n",
        "    return NbAtomRestants\n",
        "\n",
        "NbAtoms = 1000\n",
        "t=0\n",
        "\n",
        "while (NbAtoms > ..........) :\n",
        "  print(t,NbAtoms)\n",
        "  NbAtoms = desintegration(NbAtoms)\n",
        "  t = t+1"
      ],
      "execution_count": 3,
      "outputs": [
        {
          "output_type": "stream",
          "text": [
            "0 1000\n",
            "1 918\n",
            "2 839\n",
            "3 751\n",
            "4 668\n",
            "5 602\n",
            "6 541\n",
            "7 498\n",
            "8 446\n",
            "9 395\n",
            "10 363\n",
            "11 330\n",
            "12 293\n",
            "13 265\n",
            "14 238\n",
            "15 211\n",
            "16 188\n",
            "17 170\n",
            "18 150\n",
            "19 143\n",
            "20 126\n",
            "21 116\n",
            "22 103\n",
            "23 96\n",
            "24 86\n",
            "25 73\n",
            "26 65\n",
            "27 59\n",
            "28 51\n",
            "29 48\n",
            "30 45\n",
            "31 39\n",
            "32 32\n",
            "33 29\n",
            "34 27\n",
            "35 24\n",
            "36 21\n",
            "37 18\n",
            "38 18\n",
            "39 15\n",
            "40 14\n",
            "41 12\n",
            "42 11\n",
            "43 10\n",
            "44 8\n",
            "45 7\n",
            "46 6\n",
            "47 6\n",
            "48 6\n",
            "49 5\n",
            "50 4\n",
            "51 3\n",
            "52 3\n",
            "53 3\n",
            "54 3\n",
            "55 2\n",
            "56 2\n",
            "57 1\n",
            "58 1\n",
            "59 1\n",
            "60 1\n",
            "61 1\n",
            "62 1\n",
            "63 1\n",
            "64 1\n",
            "65 1\n",
            "66 1\n",
            "67 1\n",
            "68 1\n",
            "69 1\n"
          ],
          "name": "stdout"
        }
      ]
    },
    {
      "cell_type": "markdown",
      "metadata": {
        "id": "TKijlSmekNQI",
        "colab_type": "text"
      },
      "source": [
        "# Objectif 4 : Affichage  de la décroissance radioactive d'une population de noyaux"
      ]
    },
    {
      "cell_type": "markdown",
      "metadata": {
        "id": "AZs4lJy9lVOn",
        "colab_type": "text"
      },
      "source": [
        "-      Compléter les lignes du script pour afficher le graphique N=f(t), titre, légende, ... "
      ]
    },
    {
      "cell_type": "code",
      "metadata": {
        "id": "G_SCpnSzKMk9",
        "colab_type": "code",
        "outputId": "75695305-c9de-4678-98c2-e305b55f8d5c",
        "colab": {
          "base_uri": "https://localhost:8080/",
          "height": 1000
        }
      },
      "source": [
        "import random\n",
        "import matplotlib.pyplot as plt\n",
        "plt.clf()\n",
        "\n",
        "# Définition de la fonction de desintegration qui affichera le nombre de noyaux restants après désintégration\n",
        "def desintegration(NbAtoms) :\n",
        "    NbAtomRestants = NbAtoms\n",
        "    for i in range(0,NbAtoms):\n",
        "# On fixe la probabilité de se désintégrer à 1 chance sur 10      \n",
        "      if random.randint(1,10) == 1 :\n",
        "        NbAtomRestants = NbAtomRestants -1\n",
        "    return NbAtomRestants\n",
        "# Initialisation des variables\n",
        "NbAtoms = 1000\n",
        "t=0\n",
        "#Boucle de désintégration\n",
        "while (NbAtoms > 0) :\n",
        "  print(t,NbAtoms)\n",
        "  NbAtoms = desintegration(NbAtoms)\n",
        "  t = t+1\n",
        "# Affichage du graphique NbAtoms en fct du temps\n",
        "  plt.plot(......,........,'*')\n",
        "  plt.xlabel(\".........\")\n",
        "  plt.title(\"..........\")\n",
        "  plt.ylabel(\"................\")\n",
        "  plt.show"
      ],
      "execution_count": 13,
      "outputs": [
        {
          "output_type": "stream",
          "text": [
            "0 1000\n",
            "1 897\n",
            "2 799\n",
            "3 729\n",
            "4 653\n",
            "5 582\n",
            "6 524\n",
            "7 470\n",
            "8 420\n",
            "9 378\n",
            "10 347\n",
            "11 320\n",
            "12 281\n",
            "13 254\n",
            "14 222\n",
            "15 191\n",
            "16 175\n",
            "17 159\n",
            "18 140\n",
            "19 129\n",
            "20 114\n",
            "21 98\n",
            "22 89\n",
            "23 83\n",
            "24 70\n",
            "25 63\n",
            "26 59\n",
            "27 55\n",
            "28 49\n",
            "29 41\n",
            "30 35\n",
            "31 32\n",
            "32 28\n",
            "33 24\n",
            "34 22\n",
            "35 21\n",
            "36 18\n",
            "37 15\n",
            "38 14\n",
            "39 13\n",
            "40 9\n",
            "41 9\n",
            "42 7\n",
            "43 7\n",
            "44 6\n",
            "45 4\n",
            "46 4\n",
            "47 3\n",
            "48 2\n",
            "49 2\n",
            "50 2\n",
            "51 1\n",
            "52 1\n",
            "53 1\n",
            "54 1\n",
            "55 1\n",
            "56 1\n",
            "57 1\n",
            "58 1\n",
            "59 1\n",
            "60 1\n",
            "61 1\n",
            "62 1\n",
            "63 1\n",
            "64 1\n",
            "65 1\n",
            "66 1\n",
            "67 1\n",
            "68 1\n",
            "69 1\n",
            "70 1\n",
            "71 1\n",
            "72 1\n",
            "73 1\n",
            "74 1\n",
            "75 1\n",
            "76 1\n",
            "77 1\n",
            "78 1\n",
            "79 1\n",
            "80 1\n",
            "81 1\n",
            "82 1\n",
            "83 1\n"
          ],
          "name": "stdout"
        },
        {
          "output_type": "display_data",
          "data": {
            "image/png": "[encoded data removed]",
            "text/plain": [
              "<Figure size 432x288 with 1 Axes>"
            ]
          },
          "metadata": {
            "tags": [],
            "needs_background": "light"
          }
        }
      ]
    }
  ]
}