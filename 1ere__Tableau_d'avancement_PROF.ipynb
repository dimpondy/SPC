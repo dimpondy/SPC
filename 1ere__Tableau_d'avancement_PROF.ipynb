{
  "nbformat": 4,
  "nbformat_minor": 0,
  "metadata": {
    "colab": {
      "name": "1ere_ Tableau d'avancement_PROF.ipynb",
      "provenance": [],
      "collapsed_sections": []
    },
    "kernelspec": {
      "name": "python3",
      "display_name": "Python 3"
    }
  },
  "cells": [
    {
      "cell_type": "markdown",
      "metadata": {
        "id": "1lB8_GY9Ok27",
        "colab_type": "text"
      },
      "source": [
        "# **Tableau d'avancement et recherche de réactif limitant**"
      ]
    },
    {
      "cell_type": "markdown",
      "metadata": {
        "id": "_JpWuA3gPYMh",
        "colab_type": "text"
      },
      "source": [
        "### Compétence numétrique BO 1re SPE : \n",
        " \n",
        "*   *Déterminer la composition de l'état final d'un système siège d'une transformation chimique totale*\n",
        "\n",
        "\n",
        "\n",
        "\n"
      ]
    },
    {
      "cell_type": "markdown",
      "metadata": {
        "id": "6RflaiBuSQwH",
        "colab_type": "text"
      },
      "source": [
        "##Objectif 1 : Le programme devra dans un 1er temps déterminer quel **réactif est en excés** et quel est **celui en défaut**"
      ]
    },
    {
      "cell_type": "markdown",
      "metadata": {
        "colab_type": "text",
        "id": "TlJCL7ozS3TJ"
      },
      "source": [
        "Petite réflexion au préalable :  \n",
        "\n",
        "*   Quelles données devront être rentrées par l'utilisateur ?\n",
        "*   Quelles données seront calculées ?\n",
        "\n"
      ]
    },
    {
      "cell_type": "markdown",
      "metadata": {
        "colab_type": "text",
        "id": "wodkgP5QvC52"
      },
      "source": [
        "On testera le script avec \n",
        "*    une 1ère équation simple de type A+B -> C+D \n",
        "*    puis une 2ème plus complexe de type 2A+3B -> 4C+5D"
      ]
    },
    {
      "cell_type": "code",
      "metadata": {
        "id": "804fnpyWSRKO",
        "colab_type": "code",
        "colab": {
          "base_uri": "https://localhost:8080/",
          "height": 178
        },
        "outputId": "51633837-2b87-4085-90cf-6dc6961950d5"
      },
      "source": [
        "import numpy as np\n",
        "# Ce programme demandera les coefficent stoéchiométriques ainsi \n",
        "#les quantités de matières introduites \n",
        "print( \"L'équation étudiée sera de la forme aA + bB -> cC + dD\")\n",
        "\n",
        "a=float(input(\"Quel est le coefficient stoechiomètrique du réactif A ?\"))\n",
        "b=float(input(\"Quel est le coefficient stoechiomètrique du réactif B ? ?\"))\n",
        "c=float(input(\"Quel est le coefficient stoechiomètrique du $produit$ C ?\"))\n",
        "d=float(input(\"Quel est le coefficient stoechiomètrique du $produit$ D ?\"))\n",
        "# Demande des quantités intiales des réactifs introduits\n",
        "na=float(input(\"Indiquez la quantité de matière na introduite ?\"))\n",
        "nb=float(input(\"Indiquez la quantité de matière nb introduite ?\"))\n",
        "print( \"l'équation de la réaction étudiée est alors de la forme : \",a,\"A + \",b,\"B --> \",c, \" C + \",d,\" D\")\n",
        "# A quelle condition le réactif a est en excés ? \n",
        "if na/a>nb/b:\n",
        "  print( \"le réactif A est en excés, autrement dit le réactif B est en défaut \")\n",
        "else :\n",
        "  print(\"Le réactif B qui est en excés, autrement dit le réactif A est en défaut\")"
      ],
      "execution_count": 7,
      "outputs": [
        {
          "output_type": "stream",
          "text": [
            "L'équation étudiée sera de la forme aA + bB -> cC + dD\n",
            "Quel est le coefficient stoechiomètrique du réactif A ?1\n",
            "Quel est le coefficient stoechiomètrique du réactif B ? ?1\n",
            "Quel est le coefficient stoechiomètrique du $produit$ C ?1\n",
            "Quel est le coefficient stoechiomètrique du $produit$ D ?1\n",
            "Indiquez la quantité de matière na introduite ?2\n",
            "Indiquez la quantité de matière nb introduite ?3\n",
            "l'équation de la réaction étudiée est alors de la forme :  1.0 A +  1.0 B -->  1.0  C +  1.0  D\n",
            "C'est le réactif B est en excés\n"
          ],
          "name": "stdout"
        }
      ]
    },
    {
      "cell_type": "markdown",
      "metadata": {
        "id": "ywZHvWe5OtFz",
        "colab_type": "text"
      },
      "source": [
        "##Objectif 2  : Le programme devra calculer **les réactifs en excés** et **les quantités de matières finales des produits formés** au cours d' une tranformation totale à partir des données rentrées par l'utilisateur"
      ]
    },
    {
      "cell_type": "markdown",
      "metadata": {
        "id": "PynGXSwLm8wa",
        "colab_type": "text"
      },
      "source": [
        "On testera bien évidement le script avec \n",
        "*    une 1ère équation simple de type A+B -> C+D \n",
        "*    puis une 2ème plus complexe de type 2A+3B -> 4C+5D"
      ]
    },
    {
      "cell_type": "code",
      "metadata": {
        "id": "-0CyMZtLOtXM",
        "colab_type": "code",
        "colab": {
          "base_uri": "https://localhost:8080/",
          "height": 214
        },
        "outputId": "91791045-a8e7-4bf4-f916-a57d887afa8b"
      },
      "source": [
        "import numpy as np\n",
        "# Ce programme demandera les coefficent stoéchiométriques ainsi \n",
        "#les quantités de matières introduites et affichera les quantités de matières restantes\n",
        "#( s'il y  a lieu ) ainsi que celles des produits formés\n",
        "print( \"L'équation étudiée sera de la forme aA + bB -> cC + dD\")\n",
        "# Demande des coefficients stoechiométriques \n",
        "a=int(input(\"Quel est le coefficient stoechiomètrique du réactif A ?\"))\n",
        "b=int(input(\"Quel est le coefficient stoechiomètrique du réactif B ? ?\"))\n",
        "c=int(input(\"Quel est le coefficient stoechiomètrique du produit C ?\"))\n",
        "d=int(input(\"Quel est le coefficient stoechiomètrique du produit D ?\"))\n",
        "# Demande des quantités intiales des réactifs introduits\n",
        "na=float(input(\"Indiquez la quantité de matière na introduite ?\"))\n",
        "nb=float(input(\"Indiquez la quantité de matière nb introduite ?\"))\n",
        "print( \"l'équation de la réaction étudiée est alors de la forme : \" ,a,\"A + \",b,\"B --> \",c, \" C + \",d,\" D\")\n",
        "# Détermination de l'avancement maximal en recherchant le x_min ( on pourra utiliser la commabde  min(x,y) pour détermine rle minium entre 2 valeurs x et y)\n",
        "x_max= min(na/a,nb/b)\n",
        "\n",
        "print(\"l avancement maximal est\",x_max)\n",
        "print(\" En fin de réaction, \") \n",
        "print(\"il restera\",na-a*xmax,\"de A et \", nb-b*x_max,\" de B et il s'est produit\",c*x_max, \" de C et \",d*x_max,\" de D\")"
      ],
      "execution_count": 30,
      "outputs": [
        {
          "output_type": "stream",
          "text": [
            "L'équation étudiée sera de la forme aA + bB -> cC + dD\n",
            "Quel est le coefficient stoechiomètrique du réactif A ?2\n",
            "Quel est le coefficient stoechiomètrique du réactif B ? ?3\n",
            "Quel est le coefficient stoechiomètrique du produit C ?4\n",
            "Quel est le coefficient stoechiomètrique du produit D ?5\n",
            "Indiquez la quantité de matière na introduite ?3\n",
            "Indiquez la quantité de matière nb introduite ?5\n",
            "l'équation de la réaction étudiée est alors de la forme :  2 A +  3 B -->  4  C +  5  D\n",
            "l avancement maximal est 1.5\n",
            " En fin de réaction, \n",
            "il restera 0.0 de A et  0.5  de B et il s'est produit 6.0  de C et  7.5  de D\n"
          ],
          "name": "stdout"
        }
      ]
    }
  ]
}