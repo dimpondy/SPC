{
  "nbformat": 4,
  "nbformat_minor": 0,
  "metadata": {
    "colab": {
      "name": "2nd_Configuration électronique_ELEVE.ipynb",
      "provenance": [],
      "collapsed_sections": []
    },
    "kernelspec": {
      "name": "python3",
      "display_name": "Python 3"
    }
  },
  "cells": [
    {
      "cell_type": "markdown",
      "metadata": {
        "id": "b1RTaS2eg2Wa",
        "colab_type": "text"
      },
      "source": [
        "# 2nd **Les configurations électroniques de quelques élements chimiques**"
      ]
    },
    {
      "cell_type": "markdown",
      "metadata": {
        "id": "Xc8Sb68cuUHe",
        "colab_type": "text"
      },
      "source": [
        "# Votre objectif : "
      ]
    },
    {
      "cell_type": "markdown",
      "metadata": {
        "id": "BpFZckNIuBcN",
        "colab_type": "text"
      },
      "source": [
        "Ecrire un script permettant d'afficher la configuration électronique , puis la colonne et la ligne à laquelle l'élément appartient"
      ]
    },
    {
      "cell_type": "markdown",
      "metadata": {
        "id": "rwGT9NTFZ5qs",
        "colab_type": "text"
      },
      "source": [
        "#Introduction à quelques  nouvelles fonctions en PYTHON"
      ]
    },
    {
      "cell_type": "markdown",
      "metadata": {
        "id": "UaezUwaZaCOF",
        "colab_type": "text"
      },
      "source": [
        "La condition \"*si ... alors .. sinon .....*\"\n",
        "*   si  ....... :     \n",
        " ...     alors........\n",
        "*   sinon :\n",
        "\n",
        "On fera attention à l'indentation ( décalage de alors après si )\n",
        "\n"
      ]
    },
    {
      "cell_type": "markdown",
      "metadata": {
        "id": "Ml9EycvKag3Z",
        "colab_type": "text"
      },
      "source": [
        "###Ex 1 : Ecrire un programme qui indique ta réussite au Bac si ta moyenne est supérieure à 10 "
      ]
    },
    {
      "cell_type": "code",
      "metadata": {
        "id": "wTE_v7hPagAk",
        "colab_type": "code",
        "colab": {}
      },
      "source": [
        "import numpy as np\n",
        "moy=float(input(\"Quelle est ta moyenne générale\"))\n",
        "# On remarquera l'indentation ( décalage) aprés le if et le else\n",
        "if ............ :\n",
        "  print (\"Bravo\")\n",
        "else: \n",
        "  print(\"Snif\")"
      ],
      "execution_count": 0,
      "outputs": []
    },
    {
      "cell_type": "markdown",
      "metadata": {
        "colab_type": "text",
        "id": "gOtL725Cbqnj"
      },
      "source": [
        "###Ex 2 : Ecrire un programme qui indique ta réussite au Bac si ta moyenne est supérieure à 10 , ton échec si inférieure à 8 et le passage à l'oral si ta moyenne est comprise entre 8 et 10 !"
      ]
    },
    {
      "cell_type": "markdown",
      "metadata": {
        "id": "h23vhYbBb8BO",
        "colab_type": "text"
      },
      "source": [
        "On pourra utiliser la notation d'encadrement pour x :  ..<= x < ..."
      ]
    },
    {
      "cell_type": "code",
      "metadata": {
        "id": "wtosmLxhb3DD",
        "colab_type": "code",
        "colab": {}
      },
      "source": [
        "\n",
        "\n",
        "if\n",
        "\n",
        "elif\n",
        "  \n",
        "else"
      ],
      "execution_count": 0,
      "outputs": []
    },
    {
      "cell_type": "markdown",
      "metadata": {
        "id": "nkAkIm4h_-vj",
        "colab_type": "text"
      },
      "source": [
        "<h1> en CHIMIE"
      ]
    },
    {
      "cell_type": "markdown",
      "metadata": {
        "colab_type": "text",
        "id": "2MEh0_vGcRZC"
      },
      "source": [
        "###Ex 3 : Ecrire un programme qui indique *la nature d'une solution ( Acide si pH inf à 7 , neutre si pH = 7 et enfin Basique si pH sup à 7*"
      ]
    },
    {
      "cell_type": "code",
      "metadata": {
        "id": "ir7DhCgqcdkA",
        "colab_type": "code",
        "colab": {}
      },
      "source": [
        "\n",
        "\n",
        "\n",
        "\n",
        "\n",
        "\n",
        "\n",
        "\n",
        "\n"
      ],
      "execution_count": 0,
      "outputs": []
    },
    {
      "cell_type": "markdown",
      "metadata": {
        "id": "P4tVMPlgdGd-",
        "colab_type": "text"
      },
      "source": [
        "# Partie CHIMIE"
      ]
    },
    {
      "cell_type": "markdown",
      "metadata": {
        "id": "5SCNmv-Ag5eV",
        "colab_type": "text"
      },
      "source": [
        "## Ecrire un programme permettant *d'afficher la configuration électronique ( Ex : 1s2 2s1 ) d'un élément à partir du numéro atomique entré par l'utilisateur*"
      ]
    },
    {
      "cell_type": "markdown",
      "metadata": {
        "id": "up48sA-AIm6d",
        "colab_type": "text"
      },
      "source": [
        "#1er cas simple : Z < 4"
      ]
    },
    {
      "cell_type": "markdown",
      "metadata": {
        "id": "GLqAfPgaNZ_a",
        "colab_type": "text"
      },
      "source": [
        "**EX1 : Complétez les lignes 4 et 7 du programme**"
      ]
    },
    {
      "cell_type": "code",
      "metadata": {
        "id": "KmzrnA8lhF5A",
        "colab_type": "code",
        "colab": {}
      },
      "source": [
        "import numpy as np\n",
        "z=int(input(\"Quel est le numéro atomique de l'élément chimique entre 1 et 4 ?\"))\n",
        "if z<2 :\n",
        "  print(\"la configuration électronique de cet élément est 1s\",..........)\n",
        "  print(\"Il appartient à la première période\")  \n",
        "else :\n",
        "  print(\"la configuration électronique de cet élément est 1s2 2s\",............)"
      ],
      "execution_count": 0,
      "outputs": []
    },
    {
      "cell_type": "markdown",
      "metadata": {
        "id": "7HqRHPV_IvTg",
        "colab_type": "text"
      },
      "source": [
        "##2eme cas moins simple : Z <10"
      ]
    },
    {
      "cell_type": "markdown",
      "metadata": {
        "colab_type": "text",
        "id": "nlti5O6KNnz_"
      },
      "source": [
        "**EX2 : Complétez les lignes 4, 7 et 9 du programme** et Testez toutes les valeurs !"
      ]
    },
    {
      "cell_type": "code",
      "metadata": {
        "id": "cH0ogZo1IueX",
        "colab_type": "code",
        "colab": {}
      },
      "source": [
        "import numpy as np\n",
        "z=int(input(\"Quel est le numéro atomique de l'élément chimique pour Z<10 ?\"))\n",
        "if .............. :\n",
        "  print(\"la configuration électronique de cet élément est 1s\",z)\n",
        "  print(\"Il appartient à la première période\")  \n",
        "elif ............ :\n",
        "  print(\"la configuration électronique de cet élément est 1s2 2 s\",............)\n",
        "else :\n",
        "  print(\"la configuration électronique de cet élément est 1s2 2s2 2p\",..........)"
      ],
      "execution_count": 0,
      "outputs": []
    },
    {
      "cell_type": "markdown",
      "metadata": {
        "id": "FilNTQr1duDt",
        "colab_type": "text"
      },
      "source": [
        "##**Pour les PRO !** "
      ]
    },
    {
      "cell_type": "markdown",
      "metadata": {
        "id": "AG4KJg5ZqHbf",
        "colab_type": "text"
      },
      "source": [
        "### Ex 3 Le programme devra afficher la période mais aussi la colonne où se trouve l'élément chimique !"
      ]
    },
    {
      "cell_type": "code",
      "metadata": {
        "id": "6NkfJSU5qTPg",
        "colab_type": "code",
        "colab": {}
      },
      "source": [
        "import numpy as np\n",
        "z=int(input(\"Quel est le numéro atomique de l'élément chimique pour Z<10 ?\"))\n",
        "if z <=2 :\n",
        "  print(\"la configuration électronique de cet élément est 1s\",z)\n",
        "  print(\"Il appartient à la première période\")  \n",
        "elif 2 < z <= 4 :\n",
        "  print(\"la configuration électronique de cet élément est 1s2 2s\",...........)\n",
        "  print(\"Il appartient ........................\") \n",
        "else :\n",
        "    print(\"la configuration électronique de cet élément est 1s2 2s2 2p\",......)\n",
        "    print(\"Il appartient ...........................\") \n"
      ],
      "execution_count": 0,
      "outputs": []
    },
    {
      "cell_type": "markdown",
      "metadata": {
        "colab_type": "text",
        "id": "dWsxz7qFqD_S"
      },
      "source": [
        "##**Pour les EXPERTS !** "
      ]
    },
    {
      "cell_type": "markdown",
      "metadata": {
        "id": "rHQ95DS6d5Oc",
        "colab_type": "text"
      },
      "source": [
        "### Ex 4 Vous perfectionnerez votre programme en testant la valeur introduite par l'utilisateur pour que cela **redemande** z  s'il n'est pas compris entre 0 et 10 !"
      ]
    },
    {
      "cell_type": "code",
      "metadata": {
        "id": "WbkUiJLWhldd",
        "colab_type": "code",
        "colab": {}
      },
      "source": [
        "\n",
        "\n",
        "\n",
        "\n",
        "\n",
        "\n"
      ],
      "execution_count": 0,
      "outputs": []
    }
  ]
}