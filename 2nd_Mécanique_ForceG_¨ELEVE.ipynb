{
  "nbformat": 4,
  "nbformat_minor": 0,
  "metadata": {
    "colab": {
      "name": "Copie2nd Mécanique_ForceG_¨ELEVE.ipynb",
      "provenance": [],
      "collapsed_sections": []
    },
    "kernelspec": {
      "name": "python3",
      "display_name": "Python 3"
    }
  },
  "cells": [
    {
      "cell_type": "markdown",
      "metadata": {
        "id": "SkW0k9ialemf",
        "colab_type": "text"
      },
      "source": [
        "\n",
        "# Interactions gravitationnelles en PYTHON"
      ]
    },
    {
      "cell_type": "markdown",
      "metadata": {
        "id": "nhmp3VbuXmmq",
        "colab_type": "text"
      },
      "source": [
        "**OBJECTIFS:** *Ecrire plusieurs scripts calculant la Force d'attraction gravitationnelle exercée par différentes planètes* sur un astronaute ( vous )"
      ]
    },
    {
      "cell_type": "markdown",
      "metadata": {
        "id": "J5HXf_nYYAgl",
        "colab_type": "text"
      },
      "source": [
        "Ton **1er SCRIPT**"
      ]
    },
    {
      "cell_type": "markdown",
      "metadata": {
        "id": "XmT_YJw-YMn3",
        "colab_type": "text"
      },
      "source": [
        "*COMPLETE* la FONCTION qui calcule la force d'attraction gravitationnelle à partir des 3 grandeurs ( arguments ) nécessaires \n",
        "*      Rappel : Fg= G.m.M/R²  aevc G : Constante gravitationnelle = 6,67.10 -11 S.I"
      ]
    },
    {
      "cell_type": "code",
      "metadata": {
        "id": "IgtjRQivf6IU",
        "colab_type": "code",
        "colab": {}
      },
      "source": [
        "#SCRIPT 1\n",
        "# Fonction permettant de calculer la force d'attraction gravitationnelle à l'aide de 3 arguments\n",
        "def ForceG(M,m,R):\n",
        "  ForceG=(................)\n",
        "  print(\"La force d'attraction gravitationnelle est de \",ForceG,\"Newton\");\n",
        "# Utilisation du script\n",
        "\n",
        "ForceG(.......,.......,.............)"
      ],
      "execution_count": 0,
      "outputs": []
    },
    {
      "cell_type": "markdown",
      "metadata": {
        "id": "P9kTIkVxYHY4",
        "colab_type": "text"
      },
      "source": [
        "Ton **2ème SCRIPT**\n",
        "*       COMPLETE le  script afin qu'il permette à l'utilisateur de choisir une planète et qui calcule la Force d'attraction gravitationnelle exercée par la planète choisie sur la masse,m de l'utilisateur.\n",
        "*       Vous aurez à rechercher les masses M et rayons R des différentes planètes.\n",
        "*       Le champ de pesanteur est calculé facilement par g = Fg/m."
      ]
    },
    {
      "cell_type": "code",
      "metadata": {
        "id": "ZMpA1crIgsNm",
        "colab_type": "code",
        "colab": {}
      },
      "source": [
        "#SCRIPT 2\n",
        "import numpy as np\n",
        "print(\"Ce programme va calculer la force d'attraction qu'exerce une planète sur toi à sa surface !\")\n",
        "m=float(input(\"Quelle est ta masse? \"))\n",
        "n=int(input(\"Quelle planète choisis-tu?1-Saturne?2-Jupiter?3-Terre?\"))\n",
        "if ..............\n",
        "................\n",
        "...............\n",
        "  print(\"Tu as choisi Saturne!\")\n",
        "  print(\"Sa masse M est de\",M,\" kg et son rayon R de\",R,\"km\")\n",
        "elif ........ :\n",
        ".............\n",
        ".............\n",
        "  print(\"Tu as choisi Jupiter\")\n",
        "  print(\"Sa masse M est de\",M,\" kg et son rayon R de\",R,\"km\")\n",
        "else :\n",
        "..................\n",
        "..................\n",
        "  print(\"Tu as choisi la Terre\")\n",
        "  print(\"Sa masse M est de\",M,\" kg et son rayon R de\",R,\"km\")\n",
        "# Calcul et affichage de la force gravitationelle\n",
        "ForceG =...............................\n",
        "print( \"la force d'attraction exercée par cette planète sur toi est de\",round(ForceG,2),\"Newton\")\n",
        "g =....................................\n",
        "print( \"Son intensité de pesanteur est de\",.................,\"N/kg\")"
      ],
      "execution_count": 0,
      "outputs": []
    },
    {
      "cell_type": "markdown",
      "metadata": {
        "colab_type": "text",
        "id": "Nvph67ZrkyNl"
      },
      "source": [
        "Ton **3ème SCRIPT**\n",
        "*      Ecrivez un script qui affiche **la valeur de la force de gravitation** s'exerçant par une planète de masse **M** sur un corps de masse, **m** (votre masse par exemple) en s’éloignant de la planète càd pour **une distance, d qui augmente** (en s’éloignant de la planète) suivant une progression géométrique de raison 10, à partir de 1 km (1000 mètres). \n",
        "*      Une boucle **For ... in range** devra être utilisée.\n",
        "*      Le graphique Fg en fonction de la distance d devra être affichée."
      ]
    },
    {
      "cell_type": "code",
      "metadata": {
        "id": "5JUO9nhFhxAv",
        "colab_type": "code",
        "outputId": "12c762af-ed6e-4e6e-c2e5-dabc3ac1acad",
        "colab": {
          "base_uri": "https://localhost:8080/",
          "height": 757
        }
      },
      "source": [
        "import numpy as np\n",
        "import matplotlib.pyplot as plt\n",
        "\n",
        "print(\"Ce programme va calculer la force d'attraction qu'exerce une planète sur un astronaute qui s'éloigne de sa surface !\")\n",
        "# Demande des caractéristiques de la planète\n",
        "m=float(input(\"Quelle est ta masse? \"))\n",
        "M=float(input(\"Quelle est la masse de la planète? \"))\n",
        "R=float(input(\"Quelle est le rayon de la planète? \"))\n",
        "# Génération des distances d de 0 à 10 000 km par pas de 1000 km\n",
        "for .........................:\n",
        "# Calcul de la valeur de ForceG pour chacune de ces distances\n",
        "  ForceG =................................\n",
        "  print(\" A la distance de \",d,\" km la force d'attraction est de \",ForceG, \" Newton\")\n",
        "# Affichage de la courbe ForceG en fonction de la distance d\n",
        "# Liste des valeurs des corrdonnées d,ForceG\n",
        "d = np.linspace(0,10000,1000)\n",
        "#définition de la fonction ForceG\n",
        "ForceG =............................................\n",
        "plt.plot(...........................................)\n",
        "grid()\n",
        "legend()\n",
        "title(\"T..................\",color = '...............', fontsize = .............)\n",
        "show()\n"
      ],
      "execution_count": 0,
      "outputs": [
        {
          "output_type": "stream",
          "text": [
            "Ce programme va calculer la force d'attraction qu'exerce une planète sur un astronaute qui s'éloigne de sa surface !\n",
            "Quelle est ta masse? 75\n",
            "Quelle est la masse de la planète? 6E24\n",
            "Quelle est le rayon de la planète? 6400\n",
            " A la distance de  0  km la force d'attraction est de  732.7880859374999  Newton\n",
            " A la distance de  1000  km la force d'attraction est de  548.1190650109568  Newton\n",
            " A la distance de  2000  km la force d'attraction est de  425.38265306122446  Newton\n",
            " A la distance de  3000  km la force d'attraction est de  339.6899049343594  Newton\n",
            " A la distance de  4000  km la force d'attraction est de  277.5055473372781  Newton\n",
            " A la distance de  5000  km la force d'attraction est de  230.95567867036007  Newton\n",
            " A la distance de  6000  km la force d'attraction est de  195.20681581685741  Newton\n",
            " A la distance de  7000  km la force d'attraction est de  167.1586099353976  Newton\n",
            " A la distance de  8000  km la force d'attraction est de  144.74826388888886  Newton\n",
            " A la distance de  9000  km la force d'attraction est de  126.56012818350479  Newton\n"
          ],
          "name": "stdout"
        },
        {
          "output_type": "error",
          "ename": "NameError",
          "evalue": "ignored",
          "traceback": [
            "\u001b[0;31m---------------------------------------------------------------------------\u001b[0m",
            "\u001b[0;31mNameError\u001b[0m                                 Traceback (most recent call last)",
            "\u001b[0;32m<ipython-input-36-1e1b9cf150d2>\u001b[0m in \u001b[0;36m<module>\u001b[0;34m()\u001b[0m\n\u001b[1;32m     19\u001b[0m plt.plot(d,ForceG,'+',color = 'red', linestyle = 'dashed', linewidth = 2,\n\u001b[1;32m     20\u001b[0m  markerfacecolor = 'blue', markersize = 5,label=\"Force gravitationnelle =f(d)\")\n\u001b[0;32m---> 21\u001b[0;31m \u001b[0mdlabel\u001b[0m\u001b[0;34m(\u001b[0m\u001b[0;34m'Distance'\u001b[0m\u001b[0;34m)\u001b[0m\u001b[0;34m\u001b[0m\u001b[0;34m\u001b[0m\u001b[0m\n\u001b[0m\u001b[1;32m     22\u001b[0m \u001b[0mForceG_label\u001b[0m\u001b[0;34m(\u001b[0m\u001b[0;34m'Force gravitationnelle'\u001b[0m\u001b[0;34m)\u001b[0m\u001b[0;34m\u001b[0m\u001b[0;34m\u001b[0m\u001b[0m\n\u001b[1;32m     23\u001b[0m \u001b[0maxis\u001b[0m\u001b[0;34m(\u001b[0m\u001b[0;34m[\u001b[0m\u001b[0;36m0\u001b[0m\u001b[0;34m,\u001b[0m\u001b[0;36m10000\u001b[0m\u001b[0;34m,\u001b[0m\u001b[0;36m0\u001b[0m\u001b[0;34m,\u001b[0m\u001b[0;36m500\u001b[0m\u001b[0;34m]\u001b[0m\u001b[0;34m)\u001b[0m\u001b[0;34m\u001b[0m\u001b[0;34m\u001b[0m\u001b[0m\n",
            "\u001b[0;31mNameError\u001b[0m: name 'dlabel' is not defined"
          ]
        },
        {
          "output_type": "display_data",
          "data": {
            "image/png": "[encoded data removed]",
            "text/plain": [
              "<Figure size 432x288 with 1 Axes>"
            ]
          },
          "metadata": {
            "tags": [],
            "needs_background": "light"
          }
        }
      ]
    }
  ]
}