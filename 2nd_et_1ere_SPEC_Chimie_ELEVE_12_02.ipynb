{
  "nbformat": 4,
  "nbformat_minor": 0,
  "metadata": {
    "colab": {
      "name": "2nd et 1ere SPEC_Chimie ELEVE 12-02.ipynb",
      "provenance": [],
      "collapsed_sections": [],
      "include_colab_link": true
    },
    "kernelspec": {
      "name": "python3",
      "display_name": "Python 3"
    }
  },
  "cells": [
    {
      "cell_type": "markdown",
      "metadata": {
        "id": "view-in-github",
        "colab_type": "text"
      },
      "source": [
        "<a href=\"https://colab.research.google.com/github/dimpondy/SPC/blob/master/2nd_et_1ere_SPEC_Chimie_ELEVE_12_02.ipynb\" target=\"_parent\"><img src=\"https://colab.research.google.com/assets/colab-badge.svg\" alt=\"Open In Colab\"/></a>"
      ]
    },
    {
      "cell_type": "markdown",
      "metadata": {
        "id": "b1RTaS2eg2Wa",
        "colab_type": "text"
      },
      "source": [
        "# **Les configurations électroniques de quelques élements chimiques**"
      ]
    },
    {
      "cell_type": "markdown",
      "metadata": {
        "id": "rwGT9NTFZ5qs",
        "colab_type": "text"
      },
      "source": [
        "#Introduction à quelques  nouvelles fonctions en PYTHON"
      ]
    },
    {
      "cell_type": "markdown",
      "metadata": {
        "id": "UaezUwaZaCOF",
        "colab_type": "text"
      },
      "source": [
        "La condition \"*si ... alors .. sinon .....*\"\n",
        "*   si  ....... :     \n",
        " ...     alors........\n",
        "*   sinon :\n",
        "\n",
        "On fera attention à l'indentation ( décalage de alors après si )\n",
        "\n"
      ]
    },
    {
      "cell_type": "markdown",
      "metadata": {
        "id": "Ml9EycvKag3Z",
        "colab_type": "text"
      },
      "source": [
        "###Ex 1 : Ecrire un programme qui indique ta réussite au Bac si ta moyenne est supérieure à 10 "
      ]
    },
    {
      "cell_type": "code",
      "metadata": {
        "id": "wTE_v7hPagAk",
        "colab_type": "code",
        "colab": {}
      },
      "source": [
        "import numpy as np\n",
        "moy=float(input(\"Quelle est ta moyenne générale\"))\n",
        "# On remarquera l'indentation ( décalage) aprés le if et le else\n",
        "if ............ :\n",
        "  print (\"Bravo\")\n",
        "else: \n",
        "  print(\"Snif\")"
      ],
      "execution_count": 0,
      "outputs": []
    },
    {
      "cell_type": "markdown",
      "metadata": {
        "colab_type": "text",
        "id": "gOtL725Cbqnj"
      },
      "source": [
        "###Ex 2 : Ecrire un programme qui indique ta réussite au Bac si ta moyenne est supérieure à 10 , ton échec si inférieure à 8 et le passage à l'oral si ta moyenne est comprise entre 8 et 10 !"
      ]
    },
    {
      "cell_type": "markdown",
      "metadata": {
        "id": "h23vhYbBb8BO",
        "colab_type": "text"
      },
      "source": [
        "On pourra utiliser la notation d'encadrement pour x :  ..<= x < ..."
      ]
    },
    {
      "cell_type": "code",
      "metadata": {
        "id": "wtosmLxhb3DD",
        "colab_type": "code",
        "colab": {}
      },
      "source": [
        "\n",
        "\n",
        "if\n",
        "\n",
        "elif\n",
        "  \n",
        "else"
      ],
      "execution_count": 0,
      "outputs": []
    },
    {
      "cell_type": "markdown",
      "metadata": {
        "id": "nkAkIm4h_-vj",
        "colab_type": "text"
      },
      "source": [
        "<h1> en CHIMIE"
      ]
    },
    {
      "cell_type": "markdown",
      "metadata": {
        "colab_type": "text",
        "id": "2MEh0_vGcRZC"
      },
      "source": [
        "###Ex 3 : Ecrire un programme qui indique *la nature d'une solution ( Acide si pH inf à 7 , neutre si pH = 7 et enfin Basique si pH sup à 7*"
      ]
    },
    {
      "cell_type": "code",
      "metadata": {
        "id": "ir7DhCgqcdkA",
        "colab_type": "code",
        "colab": {}
      },
      "source": [
        "\n",
        "\n",
        "\n",
        "\n",
        "\n",
        "\n",
        "\n",
        "\n",
        "\n"
      ],
      "execution_count": 0,
      "outputs": []
    },
    {
      "cell_type": "markdown",
      "metadata": {
        "id": "P4tVMPlgdGd-",
        "colab_type": "text"
      },
      "source": [
        "# Partie CHIMIE"
      ]
    },
    {
      "cell_type": "markdown",
      "metadata": {
        "id": "5SCNmv-Ag5eV",
        "colab_type": "text"
      },
      "source": [
        "## Ecrire un programme permettant *d'afficher la configuration électronique ( Ex : 1s2 2s1 ) d'un élément à partir du numéro atomique entré par l'utilisateur*"
      ]
    },
    {
      "cell_type": "markdown",
      "metadata": {
        "id": "up48sA-AIm6d",
        "colab_type": "text"
      },
      "source": [
        "#1er cas simple : Z < 4"
      ]
    },
    {
      "cell_type": "markdown",
      "metadata": {
        "id": "GLqAfPgaNZ_a",
        "colab_type": "text"
      },
      "source": [
        "**EX1 : Complétez les lignes 4 et 7 du programme**"
      ]
    },
    {
      "cell_type": "code",
      "metadata": {
        "id": "KmzrnA8lhF5A",
        "colab_type": "code",
        "colab": {}
      },
      "source": [
        "import numpy as np\n",
        "z=int(input(\"Quel est le numéro atomique de l'élément chimique entre 1 et 4 ?\"))\n",
        "if z<2 :\n",
        "  print(\"la configuration électronique de cet élément est 1s\",..........)\n",
        "  print(\"Il appartient à la première période\")  \n",
        "else :\n",
        "  print(\"la configuration électronique de cet élément est 1s2 2s\",............)"
      ],
      "execution_count": 0,
      "outputs": []
    },
    {
      "cell_type": "markdown",
      "metadata": {
        "id": "7HqRHPV_IvTg",
        "colab_type": "text"
      },
      "source": [
        "##2eme cas moins simple : Z <10"
      ]
    },
    {
      "cell_type": "markdown",
      "metadata": {
        "colab_type": "text",
        "id": "nlti5O6KNnz_"
      },
      "source": [
        "**EX2 : Complétez les lignes 4, 7 et 9 du programme** et Testez toutes les valeurs !"
      ]
    },
    {
      "cell_type": "code",
      "metadata": {
        "id": "cH0ogZo1IueX",
        "colab_type": "code",
        "colab": {}
      },
      "source": [
        "import numpy as np\n",
        "z=int(input(\"Quel est le numéro atomique de l'élément chimique pour Z<10 ?\"))\n",
        "if .............. :\n",
        "  print(\"la configuration électronique de cet élément est 1s\",z)\n",
        "  print(\"Il appartient à la première période\")  \n",
        "elif ............ :\n",
        "  print(\"la configuration électronique de cet élément est 1s2 2 s\",............)\n",
        "else :\n",
        "  print(\"la configuration électronique de cet élément est 1s2 2s2 2p\",..........)"
      ],
      "execution_count": 0,
      "outputs": []
    },
    {
      "cell_type": "markdown",
      "metadata": {
        "id": "FilNTQr1duDt",
        "colab_type": "text"
      },
      "source": [
        "##**Pour les PRO !** "
      ]
    },
    {
      "cell_type": "markdown",
      "metadata": {
        "id": "AG4KJg5ZqHbf",
        "colab_type": "text"
      },
      "source": [
        "### Ex 3 Le programme devra afficher la période mais aussi la colonne où se trouve l'élément chimique !"
      ]
    },
    {
      "cell_type": "code",
      "metadata": {
        "id": "6NkfJSU5qTPg",
        "colab_type": "code",
        "colab": {}
      },
      "source": [
        "import numpy as np\n",
        "z=int(input(\"Quel est le numéro atomique de l'élément chimique pour Z<10 ?\"))\n",
        "if z <=2 :\n",
        "  print(\"la configuration électronique de cet élément est 1s\",z)\n",
        "  print(\"Il appartient à la première période\")  \n",
        "elif 2 < z <= 4 :\n",
        "  print(\"la configuration électronique de cet élément est 1s2 2s\",...........)\n",
        "  print(\"Il appartient ........................\") \n",
        "else :\n",
        "    print(\"la configuration électronique de cet élément est 1s2 2s2 2p\",......)\n",
        "    print(\"Il appartient ...........................\") \n"
      ],
      "execution_count": 0,
      "outputs": []
    },
    {
      "cell_type": "markdown",
      "metadata": {
        "colab_type": "text",
        "id": "dWsxz7qFqD_S"
      },
      "source": [
        "##**Pour les EXPERTS !** "
      ]
    },
    {
      "cell_type": "markdown",
      "metadata": {
        "id": "rHQ95DS6d5Oc",
        "colab_type": "text"
      },
      "source": [
        "### Ex 4 Vous perfectionnerez votre programme en testant la valeur introduite par l'utilisateur pour que cela **redemande** z  s'il n'est pas compris entre 0 et 10 !"
      ]
    },
    {
      "cell_type": "code",
      "metadata": {
        "id": "WbkUiJLWhldd",
        "colab_type": "code",
        "colab": {}
      },
      "source": [
        "\n",
        "\n",
        "\n",
        "\n",
        "\n",
        "\n"
      ],
      "execution_count": 0,
      "outputs": []
    },
    {
      "cell_type": "markdown",
      "metadata": {
        "id": "EAImOsn6h26R",
        "colab_type": "text"
      },
      "source": [
        "Un peu plus tard dans l'année....."
      ]
    },
    {
      "cell_type": "markdown",
      "metadata": {
        "id": "1lB8_GY9Ok27",
        "colab_type": "text"
      },
      "source": [
        "# **Tableau d'avancement et recherche de réactif limitant**"
      ]
    },
    {
      "cell_type": "markdown",
      "metadata": {
        "id": "_JpWuA3gPYMh",
        "colab_type": "text"
      },
      "source": [
        "### Compétence numétrique BO  : \n",
        " \n",
        "*   *Déterminer la composition de l'état final d'un système siège d'une transformation chimique totale*\n",
        "\n",
        "\n",
        "\n",
        "\n"
      ]
    },
    {
      "cell_type": "markdown",
      "metadata": {
        "id": "6RflaiBuSQwH",
        "colab_type": "text"
      },
      "source": [
        "## Ex 1 : Le programme devra juste déterminer quel réactif est en excés et quel est celui en défaut"
      ]
    },
    {
      "cell_type": "markdown",
      "metadata": {
        "colab_type": "text",
        "id": "TlJCL7ozS3TJ"
      },
      "source": [
        "Petite réflexion :  \n",
        "\n",
        "*   Quelles données devront être rentrées par l'utilisateur ?\n",
        "*   Quelles données seront calculées ?\n",
        "\n"
      ]
    },
    {
      "cell_type": "markdown",
      "metadata": {
        "id": "yV04the7X7Dt",
        "colab_type": "text"
      },
      "source": [
        "## Complète les lignes  et teste ton programme !"
      ]
    },
    {
      "cell_type": "code",
      "metadata": {
        "id": "804fnpyWSRKO",
        "colab_type": "code",
        "colab": {}
      },
      "source": [
        "import numpy as np\n",
        "# Ce programme demandera les coefficent stoéchiométriques ainsi \n",
        "#les quantités de matières introduites \n",
        "print( \"L'équation étudiée sera de la forme aA + bB -> cC + dD\")\n",
        "\n",
        "a=float(input(\"........................................ ?\"))\n",
        "b=float(input(\"........................................ ?\"))\n",
        "c=float(input(\"........................................\"))\n",
        "d=float(input(\"........................................\"))\n",
        "# Demande des quantités intiales des réactifs introduits\n",
        "na=float(input(\"........................................ ?\"))\n",
        "nb=float(input(\"........................................ ?\"))\n",
        "print( \"l'équation de la réaction étudiée est alors de la forme : \" .............................................)\n",
        "# A quelle condition le réactif a est en excés ? \n",
        "if ........................  :\n",
        "  print( \"le réactif A est en excés\")\n",
        "else :\n",
        "  print(\"C'est le réactif B est en excés\")\n"
      ],
      "execution_count": 0,
      "outputs": []
    },
    {
      "cell_type": "markdown",
      "metadata": {
        "id": "ywZHvWe5OtFz",
        "colab_type": "text"
      },
      "source": [
        "##Ex 2  à FINIR : Le programme devra calculer les réactifs en excés et les quantités de matières finales des produits formés au cours d' une tranformation totale à partir des données rentrées par l'utilisateur"
      ]
    },
    {
      "cell_type": "markdown",
      "metadata": {
        "id": "PynGXSwLm8wa",
        "colab_type": "text"
      },
      "source": [
        "On testera \n",
        "*    une 1ère équation simple de type A+B -> C+D \n",
        "*    puis une 2ème plus complexe de type 2A+3B -> 4C+5D"
      ]
    },
    {
      "cell_type": "markdown",
      "metadata": {
        "id": "SjrvAIYESh8o",
        "colab_type": "text"
      },
      "source": [
        "Petite réflexion au préalable :  \n",
        "\n",
        "*   Quelles données devront être rentrées par l'utilisateur ?\n",
        "*   Quelles données seront calculées ?\n",
        "\n"
      ]
    },
    {
      "cell_type": "markdown",
      "metadata": {
        "id": "A5xTtHxCWDo8",
        "colab_type": "text"
      },
      "source": [
        "Complétez les lignes "
      ]
    },
    {
      "cell_type": "code",
      "metadata": {
        "id": "-0CyMZtLOtXM",
        "colab_type": "code",
        "colab": {}
      },
      "source": [
        "import numpy as np\n",
        "# Ce programme demandera les coefficent stoéchiométriques ainsi \n",
        "#les quantités de matières introduites et affichera les quantités de matières restantes\n",
        "#( s'il y  a lieu ) ainsi que celles des produits formés\n",
        "print( \"L'équation étudiée sera de la forme aA + bB -> cC + dD\")\n",
        "# Demande des coefficients stoechiométriques \n",
        "a=float(input(\"........................................ ?\"))\n",
        "b=float(input(\"........................................ ?\"))\n",
        "c=float(input(\"........................................\"))\n",
        "d=float(input(\"........................................\"))\n",
        "# Demande des quantités intiales des réactifs introduits\n",
        "na=float(input(\"........................................ ?\"))\n",
        "nb=float(input(\"........................................ ?\"))\n",
        "print( \"l'équation de la réaction étudiée est alors de la forme : \" .............................................)\n",
        "# Détermination de l'avancement maximal en recherchant le x_min\n",
        ".............................\n",
        "print(\"l avancement maximal est\",..............)\n",
        "print(\"la composition du mélange en fin de réaction sera :\") \n",
        "print(\"il restera\",.................,\"de A et \", ..............,\" de B et il s'est produit\",............., \" de C et \",...........,\" de D\" )\n"
      ],
      "execution_count": 0,
      "outputs": []
    },
    {
      "cell_type": "markdown",
      "metadata": {
        "id": "Cs7Tg-ZowQeo",
        "colab_type": "text"
      },
      "source": [
        "##**Bravo .. vous commencez à être expert(e) en Python !**"
      ]
    }
  ]
}