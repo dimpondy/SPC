{
  "nbformat": 4,
  "nbformat_minor": 0,
  "metadata": {
    "colab": {
      "name": "Term_Détermination du taux d'avancement d'une réaction chimique_ELEVE.ipynb",
      "provenance": []
    },
    "kernelspec": {
      "name": "python3",
      "display_name": "Python 3"
    }
  },
  "cells": [
    {
      "cell_type": "markdown",
      "metadata": {
        "id": "4cr_Ggu8c1qQ",
        "colab_type": "text"
      },
      "source": [
        "1er OBJECTIF : Ecrire un script qui permet de calculer le **taux d'avancement** à partir de  la concentration Ca et du Ka d'un acide"
      ]
    },
    {
      "cell_type": "markdown",
      "metadata": {
        "id": "UBpNcB2yi2x0",
        "colab_type": "text"
      },
      "source": [
        "Complète les lignes de ce script pour qu'il détermine le taux d'avancement de la réaction d'un acide dans de l'eau"
      ]
    },
    {
      "cell_type": "code",
      "metadata": {
        "id": "SXKaOzdkbr78",
        "colab_type": "code",
        "outputId": "003ad164-c5ef-4eac-8c37-618be72ca9dc",
        "colab": {
          "base_uri": "https://localhost:8080/",
          "height": 73
        }
      },
      "source": [
        "import math\n",
        "# Calculer du taux d'avancement à partir de la concentration Ca et du Ka d'un acide\n",
        "Ca=float(input(\" Quelle est la concentration en acide ( mol/L) ?\"))\n",
        "Ka=float(input(\" Quelle est sa constante d'acidité Ka ? \"))\n",
        "# Calcul du Delta de la forme  b²+4a.c\n",
        "D=...........................................\n",
        "# Détermination l'avancement tho, correspondant à la racine de la forme -b+Rac(D)/2\n",
        "tho =.........................................\n",
        "print (\"Le taux d'avancement final de cet acide est\",round(tho,4),\"soit\",round(tho*100,2),\" %\")"
      ],
      "execution_count": 0,
      "outputs": [
        {
          "output_type": "stream",
          "text": [
            " Quelle est la concentration en acide ( mol/L) ?0.1\n",
            " Quelle est sa constante d'acidité Ka ? 1.8E-5\n",
            "Le taux d'avancement final de cet acide est 0.0133 soit 1.33  %\n"
          ],
          "name": "stdout"
        }
      ]
    },
    {
      "cell_type": "markdown",
      "metadata": {
        "id": "nvxyQjgthxKS",
        "colab_type": "text"
      },
      "source": [
        "2ème OBJECTIF :Modifier le script pour  calculer le taux d'avancement à partir de la concentration Ca et du **pKa** d'un acide"
      ]
    },
    {
      "cell_type": "code",
      "metadata": {
        "id": "PH7ztpwGhxdP",
        "colab_type": "code",
        "outputId": "a06c7185-448a-4809-c8a0-b04e59ece504",
        "colab": {
          "base_uri": "https://localhost:8080/",
          "height": 73
        }
      },
      "source": [
        "import math\n",
        "# Calculer du taux d'avancement à partir de la concentration Ca et du Ka d'un acide\n",
        "Ca=float(input(\" Quelle est la concentration en acide ( mol/L) ?\"))\n",
        ".......=float(input(\" Quelle est son pKa ? \"))\n",
        "# Calcul du Ka à partir du pKa\n",
        "..........................\n",
        "# Calcul du Delta de la forme  b²+4a.c\n",
        "D=Ka**2+4*Ca*Ka\n",
        "# Détermination l'avancement tho, correspondant à la racine de la forme -b+Rac(D)/2\n",
        "tho =(-Ka+math.sqrt(D))/(2*Ca)\n",
        "print (\"Le taux d'avancement final de cet acide est\",round(tho,4),\"soit\",round(tho*100,2),\" %\")"
      ],
      "execution_count": 0,
      "outputs": [
        {
          "output_type": "stream",
          "text": [
            " Quelle est la concentration en acide ( mol/L) ?0.1\n",
            " Quelle est son pKa ? 4.7\n",
            "Le taux d'avancement final de cet acide est 0.014 soit 1.4  %\n"
          ],
          "name": "stdout"
        }
      ]
    }
  ]
}